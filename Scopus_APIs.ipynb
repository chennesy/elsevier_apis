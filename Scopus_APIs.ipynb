{
 "cells": [
  {
   "cell_type": "markdown",
   "id": "d902ff52-73ac-4743-84cc-df9e9df1f638",
   "metadata": {},
   "source": [
    "## Using Elsevier APIs\n",
    "\n",
    "This notebook provides code that you can adapt to use with the [Scopus Search API](https://dev.elsevier.com/documentation/ScopusSearchAPI.wadl) and the [Abstract Retrieval Search API](https://dev.elsevier.com/documentation/AbstractRetrievalAPI.wadl). It includes:\n",
    "1. Setting up access to Elsevier APIs.\n",
    "2. Constructing a search template for sending different kinds of searches to the Scopus Search API (e.g., keyword, author name, ISSN).\n",
    "3. Using an ISSN search with date limiters to send a larger search to the Scopus Search API, and paging through the results. \n",
    "4. Exploring JSON data that is returned from the API. \n",
    "5. Sending DOIs to the Abstract Search API to retrieve more robust metadata.\n",
    "\n",
    "To begin, we need to import a few Python libraries to work with the APIs and the returned data."
   ]
  },
  {
   "cell_type": "code",
   "execution_count": 44,
   "id": "9df0239e-f7e9-45ba-8cdd-3c7ff1002910",
   "metadata": {},
   "outputs": [],
   "source": [
    "import pandas as pd # allows us to work with tabular data\n",
    "import requests # to send the API requests to Elsevier\n",
    "import json # to read the JSON data that is returned by the APIs\n",
    "import pickle # pickle files are a good way to save data for reuse in Python\n",
    "from datetime import datetime # we'll use datetime to interpret the API response for when our API limit resets"
   ]
  },
  {
   "cell_type": "markdown",
   "id": "1e7e7fdd-00ac-4c9b-9515-072a86257f55",
   "metadata": {},
   "source": [
    "### Elsevier APIs\n",
    "To use these APIs you'll need to register for an API key via the [Elsevier Developer site](https://dev.elsevier.com/). A note on access from the Elsevier site:\n",
    "\n",
    ">Anyone can request an API Key to use Elsevier APIs. Access at no charge is available to researchers in academic, public-sector and not-for-profit institutions. Free access is only available for non-commercial use and provided Elsevier's policies for using APIs and the data are honoured.\n",
    "\n",
    ">Full API access is only granted to researchers affiliated to organisations that have subscriptions to the corresponding Elsevier product.\n",
    "\n",
    "If you are affiliated with an institution with Elsevier access, make sure you send your API request from an on-campus IP address or use a VPN. Elsevier doesn't offer a way to sign in with campus credentials, so you'll need to run this from within an approved IP range for access to non-open-access content.\n",
    "\n",
    "Once you have an API key, you can save it to a variable below. Make sure you don't save your API key anywhere publicly (such as on GitHub). "
   ]
  },
  {
   "cell_type": "code",
   "execution_count": 2,
   "id": "381b0c9f-de8f-481c-8c5a-915b015f62f9",
   "metadata": {},
   "outputs": [],
   "source": [
    "api_key = '6101173765c12924236cea2dddf74014'"
   ]
  },
  {
   "cell_type": "markdown",
   "id": "d7138d55-94f7-4b97-9992-12669d75ded9",
   "metadata": {},
   "source": [
    "### Scopus Search API: Constructing a search query\n",
    "To add search parameters to our API search we'll start with a few fields. Ignore any of the variables that you don't want to use by just leaving the value unchanged - ```0``` or an empty string (```''```). To use any of the fields in your search, add a value.\n",
    "\n",
    "- See [Elsevier's documentation](https://dev.elsevier.com/sc_search_tips.html) to find field names to add more search paramters and to format your searches below.\n",
    "- You can also [test Scopus queries](https://dev.elsevier.com/scopus.html#!/Scopus_Search/ScopusSearch) using their interactive API. This is a great way to see how search string parameters are added to the URLs sent to the API."
   ]
  },
  {
   "cell_type": "code",
   "execution_count": 25,
   "id": "631369eb-603d-4799-92d5-5f9edeb36833",
   "metadata": {},
   "outputs": [],
   "source": [
    "'''search parameters: add values to the dictionary key:value pairs below\n",
    "leave any fields that you don't want to use as either 0 or '''\n",
    "\n",
    "search_string_parameters = {\n",
    "    'ISSN' : '', # Limit results to results from a journal ISSN (add as a string). Leave = '' if no value.\n",
    "    'AUTHOR-NAME' : '', # Search the author name field. lastname, firstname. e.g., Noble, Safiya\n",
    "    'KEY' : '', # Add a keyword to search in the text of the article\n",
    "    'PUBLISHER' : '', # Add a publisher name. e.g., Springer\n",
    "    'EXACTSRCTITLE' : 'libraries', # Add keywords that appear in the journal, book, or conference title. e.g., Informatics\n",
    "    'TITLE' : '', # Add keywords that appear in the article or chapter title. Can use AND, OR, and AND NOT. e.g. cat AND dog \n",
    "    'start_year' : 2010, # Limit your search to items published after this year. Leave = 0 if no value. YYYY , e.g., 1995\n",
    "    'end_year' : 0 # Limit your search to items published before this year. Leave = 0 if no value. YYYY, e.g., 2020\n",
    "}"
   ]
  },
  {
   "cell_type": "markdown",
   "id": "63889d37-9ed0-4bc0-9839-2a45e34bce45",
   "metadata": {},
   "source": [
    "The cell below constructs an encoded search string based on the values entered above. It checks if each of the search string parameter keys (e.g., ISSN) has a value assigned to it. If there's a value it adds it to the search_string variable using the proper syntax. If none of the keys in search_string_parameters have values search_string will be empty. "
   ]
  },
  {
   "cell_type": "code",
   "execution_count": 26,
   "id": "c1bbf01c-7e5a-4776-bba6-45721a925bd3",
   "metadata": {},
   "outputs": [],
   "source": [
    "def search_builder(search_string_parameters):\n",
    "    ''' Concatenates a search string query formatted for the Scopus Search API.\n",
    "    - search_string_parameters expects a python dictionary with keys aligned to API search fields.\n",
    "    '''\n",
    "    search_string = ''\n",
    "\n",
    "    for k,v in search_string_parameters.items():\n",
    "        if k == 'start_year' and v:\n",
    "            if search_string != '':\n",
    "                search_string += f' AND '\n",
    "            search_string += f'PUBYEAR > {v}'\n",
    "        elif k == 'end_year' and v:\n",
    "            if search_string != '':\n",
    "                search_string += f' AND '\n",
    "            search_string += f'PUBYEAR < {v}'\n",
    "        elif v:\n",
    "            if search_string != '':\n",
    "                search_string += f' AND '\n",
    "            search_string += f'{k}({v})'\n",
    "\n",
    "    return search_string"
   ]
  },
  {
   "cell_type": "code",
   "execution_count": 27,
   "id": "00ac5804-27da-481f-b995-9350827f5b38",
   "metadata": {},
   "outputs": [],
   "source": [
    "search_string = search_builder(search_string_parameters)"
   ]
  },
  {
   "cell_type": "code",
   "execution_count": 28,
   "id": "c87164eb-cf16-4292-964d-63e5014b2d2b",
   "metadata": {},
   "outputs": [
    {
     "name": "stdout",
     "output_type": "stream",
     "text": [
      "EXACTSRCTITLE(libraries) AND PUBYEAR > 2010\n"
     ]
    }
   ],
   "source": [
    "print(search_string)"
   ]
  },
  {
   "cell_type": "markdown",
   "id": "1650d750-e5b1-4aaf-be3f-bb2ba4b590a0",
   "metadata": {},
   "source": [
    "Now we'll create two functions that we can use to interact with the Scopus Search API. The first - ```create_url``` - uses the ```search_string``` and ```api_key``` variables we defined above to format a URL API call. The second - ```connect_to_endpoint``` - sends the request to Elsevier, and introduces a ```next_``` parameter that we'll use to page through results when there are more than 25 results for our search. "
   ]
  },
  {
   "cell_type": "code",
   "execution_count": 34,
   "id": "b099998c-5f30-4cfe-a83e-996361b83521",
   "metadata": {},
   "outputs": [],
   "source": [
    "def create_url(search_string):\n",
    "    '''Accepts a formatted search string that will be added to the Scopus Search API URL. \n",
    "    Requires a global api_key variable.\n",
    "    Formats and returns a URL to send to the Scopus Search API.'''\n",
    "    \n",
    "    query = f'{search_string}'\n",
    "    url_template = 'https://api.elsevier.com/content/search/scopus?query={query}&apiKey={api_key}'\n",
    "    full_url = url_template.format(query=query, api_key=api_key)\n",
    "    return full_url\n",
    "\n",
    "def connect_to_endpoint(full_url, params={'cursor': '*'}, next_ = '*'):\n",
    "    '''Accepts API URL with ISSN, default parameters, and next page cursor;\n",
    "    Sends request to Scopus API and collects JSON results for each call;\n",
    "    Returns r.json() for the ['search-results'] key.'''\n",
    "    \n",
    "    params['cursor'] = next_\n",
    "    r = requests.get(full_url, params=params)\n",
    "    r.raise_for_status()\n",
    "    return r.json()['search-results'], r.headers"
   ]
  },
  {
   "cell_type": "markdown",
   "id": "e6b66724-89f1-4ac9-82d3-898c5c4ebef3",
   "metadata": {},
   "source": [
    "#### Example Search\n",
    "Once you've assigned your API key and at least one search field above, and run all of the code preceding, you can send a search to the API. "
   ]
  },
  {
   "cell_type": "code",
   "execution_count": 35,
   "id": "97acf646-9792-46c1-875e-476d88dd8b91",
   "metadata": {},
   "outputs": [],
   "source": [
    "full_url = create_url(search_string)\n",
    "r_json, r_headers = connect_to_endpoint(full_url)"
   ]
  },
  {
   "cell_type": "markdown",
   "id": "34dfbb9f-cf5d-49d9-abf7-fa20dcd2d28c",
   "metadata": {},
   "source": [
    "Our function returns the JSON response from the API call (```r_json```) along with the headers from the response (```r_headers```). The latter has some useful information about our API key limits. We're probably most interested in the ```X-RateLimit-Limit``` (how many calls we can make per week to the API), the ```X-RateLimit-Remaining``` (how many we have left in the week), and the ```X-RateLimit-Reset``` (when the week counter resets).\n"
   ]
  },
  {
   "cell_type": "code",
   "execution_count": 45,
   "id": "895e9638-03cd-4048-a45a-c69901b6447f",
   "metadata": {},
   "outputs": [
    {
     "name": "stdout",
     "output_type": "stream",
     "text": [
      "Limit: 20000 \n",
      "Remaining: 19964 \n",
      "Resets on: 2023-05-10 00:20:57\n"
     ]
    }
   ],
   "source": [
    "print('Limit:', r_headers['X-RateLimit-Limit'], \n",
    "      '\\nRemaining:', r_headers['X-RateLimit-Remaining'], \n",
    "      '\\nResets on:', datetime.fromtimestamp(int(r_headers['X-RateLimit-Reset'])))"
   ]
  },
  {
   "cell_type": "markdown",
   "id": "690fb72a-4096-4d11-a45c-ac1b0586e041",
   "metadata": {},
   "source": [
    "Since we didn't have either of the functions print any outputs, the call should be successful as long as we don't see any errors pop up. We can check by looking at the r_json object that we collected. The keys of the dictionary will show us what kind of data is available."
   ]
  },
  {
   "cell_type": "code",
   "execution_count": 9,
   "id": "18f9a671-fabc-457a-9c4a-0b228f144045",
   "metadata": {},
   "outputs": [
    {
     "data": {
      "text/plain": [
       "dict_keys(['opensearch:totalResults', 'opensearch:itemsPerPage', 'opensearch:Query', 'cursor', 'link', 'entry'])"
      ]
     },
     "execution_count": 9,
     "metadata": {},
     "output_type": "execute_result"
    }
   ],
   "source": [
    "r_json.keys()"
   ]
  },
  {
   "cell_type": "markdown",
   "id": "c499b3a8-1718-4b8d-8875-0408d8aebfa0",
   "metadata": {},
   "source": [
    "Let's first see how many search results there were, and how many of those were returned by our query."
   ]
  },
  {
   "cell_type": "code",
   "execution_count": 10,
   "id": "1ba9150a-88a6-45a7-a1e2-075c4ef8dc9d",
   "metadata": {},
   "outputs": [
    {
     "name": "stdout",
     "output_type": "stream",
     "text": [
      "Total results: 8851 \n",
      "Results collected: 25\n"
     ]
    }
   ],
   "source": [
    "print(\"Total results:\", r_json['opensearch:totalResults'], \n",
    "      \"\\nResults collected:\", r_json['opensearch:itemsPerPage'])"
   ]
  },
  {
   "cell_type": "markdown",
   "id": "709e7147-7d2e-441e-809d-0f588c45b9c1",
   "metadata": {},
   "source": [
    "It looks like we're only getting 25 results per page. We will page through more results in the next section but let's look at some of the data we got back from the query first. We can find that in the ```entry``` key. Since we know there are 25 results, let's just look at the first one to begin:"
   ]
  },
  {
   "cell_type": "code",
   "execution_count": 11,
   "id": "1cd2aed0-9edd-47e5-a54d-3a97a78a6799",
   "metadata": {},
   "outputs": [
    {
     "data": {
      "text/plain": [
       "{'@_fa': 'true',\n",
       " 'link': [{'@_fa': 'true',\n",
       "   '@ref': 'self',\n",
       "   '@href': 'https://api.elsevier.com/content/abstract/scopus_id/85152294109'},\n",
       "  {'@_fa': 'true',\n",
       "   '@ref': 'author-affiliation',\n",
       "   '@href': 'https://api.elsevier.com/content/abstract/scopus_id/85152294109?field=author,affiliation'},\n",
       "  {'@_fa': 'true',\n",
       "   '@ref': 'scopus',\n",
       "   '@href': 'https://www.scopus.com/inward/record.uri?partnerID=HzOxMe3b&scp=85152294109&origin=inward'},\n",
       "  {'@_fa': 'true',\n",
       "   '@ref': 'scopus-citedby',\n",
       "   '@href': 'https://www.scopus.com/inward/citedby.uri?partnerID=HzOxMe3b&scp=85152294109&origin=inward'}],\n",
       " 'prism:url': 'https://api.elsevier.com/content/abstract/scopus_id/85152294109',\n",
       " 'dc:identifier': 'SCOPUS_ID:85152294109',\n",
       " 'eid': '2-s2.0-85152294109',\n",
       " 'dc:title': 'Academic Map Library Weeding – Thoughts and Guidelines Developed from Two Experiences',\n",
       " 'dc:creator': 'Chandler M.',\n",
       " 'prism:publicationName': 'Association of Canadian Map Libraries and Archives Bulletin',\n",
       " 'prism:issn': '08409331',\n",
       " 'prism:eIssn': '25612263',\n",
       " 'prism:issueIdentifier': '171',\n",
       " 'prism:pageRange': '1-8',\n",
       " 'prism:coverDate': '2023-12-01',\n",
       " 'prism:coverDisplayDate': '1 December 2023',\n",
       " 'prism:doi': '10.15353/ACMLA.N171.5291',\n",
       " 'citedby-count': '0',\n",
       " 'affiliation': [{'@_fa': 'true',\n",
       "   'affilname': 'Cape Breton University',\n",
       "   'affiliation-city': 'Sydney',\n",
       "   'affiliation-country': 'Canada'}],\n",
       " 'prism:aggregationType': 'Journal',\n",
       " 'subtype': 'ar',\n",
       " 'subtypeDescription': 'Article',\n",
       " 'source-id': '27508',\n",
       " 'openaccess': '1',\n",
       " 'openaccessFlag': True,\n",
       " 'freetoread': {'value': [{'$': 'all'}, {'$': 'publisherhybridgold'}]},\n",
       " 'freetoreadLabel': {'value': [{'$': 'All Open Access'},\n",
       "   {'$': 'Hybrid Gold'}]}}"
      ]
     },
     "execution_count": 11,
     "metadata": {},
     "output_type": "execute_result"
    }
   ],
   "source": [
    "r_json['entry'][0]"
   ]
  },
  {
   "cell_type": "markdown",
   "id": "036c90e2-7ce6-4edd-9357-98473e3714c0",
   "metadata": {},
   "source": [
    "To get a sense of the fields that we have access to we can also just look at the keys related to each entry:"
   ]
  },
  {
   "cell_type": "code",
   "execution_count": 12,
   "id": "514a4d43-4048-47fa-8691-5d6c57edaeff",
   "metadata": {},
   "outputs": [
    {
     "data": {
      "text/plain": [
       "dict_keys(['@_fa', 'link', 'prism:url', 'dc:identifier', 'eid', 'dc:title', 'dc:creator', 'prism:publicationName', 'prism:issn', 'prism:eIssn', 'prism:issueIdentifier', 'prism:pageRange', 'prism:coverDate', 'prism:coverDisplayDate', 'prism:doi', 'citedby-count', 'affiliation', 'prism:aggregationType', 'subtype', 'subtypeDescription', 'source-id', 'openaccess', 'openaccessFlag', 'freetoread', 'freetoreadLabel'])"
      ]
     },
     "execution_count": 12,
     "metadata": {},
     "output_type": "execute_result"
    }
   ],
   "source": [
    "r_json['entry'][0].keys()"
   ]
  },
  {
   "cell_type": "markdown",
   "id": "34df8e15-94ba-49d5-944a-1eeaac424070",
   "metadata": {},
   "source": [
    "And we can print specific fields by referencing those keys:"
   ]
  },
  {
   "cell_type": "code",
   "execution_count": 13,
   "id": "f3043cc6-00f6-436e-b946-0b48a1d38bf6",
   "metadata": {},
   "outputs": [
    {
     "name": "stdout",
     "output_type": "stream",
     "text": [
      "Title: Academic Map Library Weeding – Thoughts and Guidelines Developed from Two Experiences \n",
      "Creator: Chandler M. \n",
      "Publication: Association of Canadian Map Libraries and Archives Bulletin \n",
      "Date: 2023-12-01 \n",
      "ISSN: 08409331 \n",
      "DOI: 10.15353/ACMLA.N171.5291\n"
     ]
    }
   ],
   "source": [
    "print('Title:', r_json['entry'][0]['dc:title'], \n",
    "      '\\nCreator:', r_json['entry'][0]['dc:creator'], \n",
    "      '\\nPublication:', r_json['entry'][0]['prism:publicationName'],\n",
    "      '\\nDate:', r_json['entry'][0]['prism:coverDate'],\n",
    "      '\\nISSN:', r_json['entry'][0]['prism:issn'], \n",
    "      '\\nDOI:', r_json['entry'][0]['prism:doi'])"
   ]
  },
  {
   "cell_type": "markdown",
   "id": "e695cc98-ff0c-4437-bf60-b4571fb017a4",
   "metadata": {},
   "source": [
    "A better way to view and work with this data is to add it to a dataframe so we can see all of the articles as rows, with columns for each field. "
   ]
  },
  {
   "cell_type": "code",
   "execution_count": 14,
   "id": "fec386ff-48c8-4383-9f3e-9fe55b703689",
   "metadata": {},
   "outputs": [
    {
     "data": {
      "text/html": [
       "<div>\n",
       "<style scoped>\n",
       "    .dataframe tbody tr th:only-of-type {\n",
       "        vertical-align: middle;\n",
       "    }\n",
       "\n",
       "    .dataframe tbody tr th {\n",
       "        vertical-align: top;\n",
       "    }\n",
       "\n",
       "    .dataframe thead th {\n",
       "        text-align: right;\n",
       "    }\n",
       "</style>\n",
       "<table border=\"1\" class=\"dataframe\">\n",
       "  <thead>\n",
       "    <tr style=\"text-align: right;\">\n",
       "      <th></th>\n",
       "      <th>@_fa</th>\n",
       "      <th>link</th>\n",
       "      <th>prism:url</th>\n",
       "      <th>dc:identifier</th>\n",
       "      <th>eid</th>\n",
       "      <th>dc:title</th>\n",
       "      <th>dc:creator</th>\n",
       "      <th>prism:publicationName</th>\n",
       "      <th>prism:issn</th>\n",
       "      <th>prism:eIssn</th>\n",
       "      <th>...</th>\n",
       "      <th>prism:aggregationType</th>\n",
       "      <th>subtype</th>\n",
       "      <th>subtypeDescription</th>\n",
       "      <th>source-id</th>\n",
       "      <th>openaccess</th>\n",
       "      <th>openaccessFlag</th>\n",
       "      <th>freetoread</th>\n",
       "      <th>freetoreadLabel</th>\n",
       "      <th>prism:volume</th>\n",
       "      <th>pubmed-id</th>\n",
       "    </tr>\n",
       "  </thead>\n",
       "  <tbody>\n",
       "    <tr>\n",
       "      <th>0</th>\n",
       "      <td>true</td>\n",
       "      <td>[{'@_fa': 'true', '@ref': 'self', '@href': 'ht...</td>\n",
       "      <td>https://api.elsevier.com/content/abstract/scop...</td>\n",
       "      <td>SCOPUS_ID:85152294109</td>\n",
       "      <td>2-s2.0-85152294109</td>\n",
       "      <td>Academic Map Library Weeding – Thoughts and Gu...</td>\n",
       "      <td>Chandler M.</td>\n",
       "      <td>Association of Canadian Map Libraries and Arch...</td>\n",
       "      <td>08409331</td>\n",
       "      <td>25612263</td>\n",
       "      <td>...</td>\n",
       "      <td>Journal</td>\n",
       "      <td>ar</td>\n",
       "      <td>Article</td>\n",
       "      <td>27508</td>\n",
       "      <td>1</td>\n",
       "      <td>True</td>\n",
       "      <td>{'value': [{'$': 'all'}, {'$': 'publisherhybri...</td>\n",
       "      <td>{'value': [{'$': 'All Open Access'}, {'$': 'Hy...</td>\n",
       "      <td>NaN</td>\n",
       "      <td>NaN</td>\n",
       "    </tr>\n",
       "    <tr>\n",
       "      <th>1</th>\n",
       "      <td>true</td>\n",
       "      <td>[{'@_fa': 'true', '@ref': 'self', '@href': 'ht...</td>\n",
       "      <td>https://api.elsevier.com/content/abstract/scop...</td>\n",
       "      <td>SCOPUS_ID:85152292606</td>\n",
       "      <td>2-s2.0-85152292606</td>\n",
       "      <td>Learning from a Distance: Assessing the impact...</td>\n",
       "      <td>Mondésir G.</td>\n",
       "      <td>Association of Canadian Map Libraries and Arch...</td>\n",
       "      <td>08409331</td>\n",
       "      <td>25612263</td>\n",
       "      <td>...</td>\n",
       "      <td>Journal</td>\n",
       "      <td>ar</td>\n",
       "      <td>Article</td>\n",
       "      <td>27508</td>\n",
       "      <td>1</td>\n",
       "      <td>True</td>\n",
       "      <td>{'value': [{'$': 'all'}, {'$': 'publisherhybri...</td>\n",
       "      <td>{'value': [{'$': 'All Open Access'}, {'$': 'Hy...</td>\n",
       "      <td>NaN</td>\n",
       "      <td>NaN</td>\n",
       "    </tr>\n",
       "    <tr>\n",
       "      <th>2</th>\n",
       "      <td>true</td>\n",
       "      <td>[{'@_fa': 'true', '@ref': 'self', '@href': 'ht...</td>\n",
       "      <td>https://api.elsevier.com/content/abstract/scop...</td>\n",
       "      <td>SCOPUS_ID:85152267964</td>\n",
       "      <td>2-s2.0-85152267964</td>\n",
       "      <td>Geographic digital divide - urban/rural issues...</td>\n",
       "      <td>Chandler M.</td>\n",
       "      <td>Association of Canadian Map Libraries and Arch...</td>\n",
       "      <td>08409331</td>\n",
       "      <td>25612263</td>\n",
       "      <td>...</td>\n",
       "      <td>Journal</td>\n",
       "      <td>ar</td>\n",
       "      <td>Article</td>\n",
       "      <td>27508</td>\n",
       "      <td>1</td>\n",
       "      <td>True</td>\n",
       "      <td>{'value': [{'$': 'all'}, {'$': 'publisherhybri...</td>\n",
       "      <td>{'value': [{'$': 'All Open Access'}, {'$': 'Hy...</td>\n",
       "      <td>NaN</td>\n",
       "      <td>NaN</td>\n",
       "    </tr>\n",
       "  </tbody>\n",
       "</table>\n",
       "<p>3 rows × 27 columns</p>\n",
       "</div>"
      ],
      "text/plain": [
       "   @_fa                                               link  \\\n",
       "0  true  [{'@_fa': 'true', '@ref': 'self', '@href': 'ht...   \n",
       "1  true  [{'@_fa': 'true', '@ref': 'self', '@href': 'ht...   \n",
       "2  true  [{'@_fa': 'true', '@ref': 'self', '@href': 'ht...   \n",
       "\n",
       "                                           prism:url          dc:identifier  \\\n",
       "0  https://api.elsevier.com/content/abstract/scop...  SCOPUS_ID:85152294109   \n",
       "1  https://api.elsevier.com/content/abstract/scop...  SCOPUS_ID:85152292606   \n",
       "2  https://api.elsevier.com/content/abstract/scop...  SCOPUS_ID:85152267964   \n",
       "\n",
       "                  eid                                           dc:title  \\\n",
       "0  2-s2.0-85152294109  Academic Map Library Weeding – Thoughts and Gu...   \n",
       "1  2-s2.0-85152292606  Learning from a Distance: Assessing the impact...   \n",
       "2  2-s2.0-85152267964  Geographic digital divide - urban/rural issues...   \n",
       "\n",
       "    dc:creator                              prism:publicationName prism:issn  \\\n",
       "0  Chandler M.  Association of Canadian Map Libraries and Arch...   08409331   \n",
       "1  Mondésir G.  Association of Canadian Map Libraries and Arch...   08409331   \n",
       "2  Chandler M.  Association of Canadian Map Libraries and Arch...   08409331   \n",
       "\n",
       "  prism:eIssn  ... prism:aggregationType subtype subtypeDescription source-id  \\\n",
       "0    25612263  ...               Journal      ar            Article     27508   \n",
       "1    25612263  ...               Journal      ar            Article     27508   \n",
       "2    25612263  ...               Journal      ar            Article     27508   \n",
       "\n",
       "  openaccess openaccessFlag  \\\n",
       "0          1           True   \n",
       "1          1           True   \n",
       "2          1           True   \n",
       "\n",
       "                                          freetoread  \\\n",
       "0  {'value': [{'$': 'all'}, {'$': 'publisherhybri...   \n",
       "1  {'value': [{'$': 'all'}, {'$': 'publisherhybri...   \n",
       "2  {'value': [{'$': 'all'}, {'$': 'publisherhybri...   \n",
       "\n",
       "                                     freetoreadLabel prism:volume pubmed-id  \n",
       "0  {'value': [{'$': 'All Open Access'}, {'$': 'Hy...          NaN       NaN  \n",
       "1  {'value': [{'$': 'All Open Access'}, {'$': 'Hy...          NaN       NaN  \n",
       "2  {'value': [{'$': 'All Open Access'}, {'$': 'Hy...          NaN       NaN  \n",
       "\n",
       "[3 rows x 27 columns]"
      ]
     },
     "execution_count": 14,
     "metadata": {},
     "output_type": "execute_result"
    }
   ],
   "source": [
    "df = pd.DataFrame(r_json['entry'])\n",
    "\n",
    "# check the first three rows\n",
    "df.head(3)"
   ]
  },
  {
   "cell_type": "markdown",
   "id": "2dc4264d-c292-4004-a952-8d44b4f55c11",
   "metadata": {},
   "source": [
    "There are some columns that are left out of the display above (see the ellipsis in the center of the dataframe). Let's take a look at the full column list. "
   ]
  },
  {
   "cell_type": "code",
   "execution_count": 15,
   "id": "91c89eba-1b3f-4392-bfb0-6c900e6ef512",
   "metadata": {},
   "outputs": [
    {
     "data": {
      "text/plain": [
       "Index(['@_fa', 'link', 'prism:url', 'dc:identifier', 'eid', 'dc:title',\n",
       "       'dc:creator', 'prism:publicationName', 'prism:issn', 'prism:eIssn',\n",
       "       'prism:issueIdentifier', 'prism:pageRange', 'prism:coverDate',\n",
       "       'prism:coverDisplayDate', 'prism:doi', 'citedby-count', 'affiliation',\n",
       "       'prism:aggregationType', 'subtype', 'subtypeDescription', 'source-id',\n",
       "       'openaccess', 'openaccessFlag', 'freetoread', 'freetoreadLabel',\n",
       "       'prism:volume', 'pubmed-id'],\n",
       "      dtype='object')"
      ]
     },
     "execution_count": 15,
     "metadata": {},
     "output_type": "execute_result"
    }
   ],
   "source": [
    "df.columns"
   ]
  },
  {
   "cell_type": "markdown",
   "id": "7b2e68ac-587d-4f65-9dfb-91859752859d",
   "metadata": {},
   "source": [
    "We can view a subset of the dataframe to make it easier to scan columns of interest."
   ]
  },
  {
   "cell_type": "code",
   "execution_count": 16,
   "id": "96e87c45-3df5-41ba-895e-9f91ac33cf64",
   "metadata": {},
   "outputs": [
    {
     "data": {
      "text/html": [
       "<div>\n",
       "<style scoped>\n",
       "    .dataframe tbody tr th:only-of-type {\n",
       "        vertical-align: middle;\n",
       "    }\n",
       "\n",
       "    .dataframe tbody tr th {\n",
       "        vertical-align: top;\n",
       "    }\n",
       "\n",
       "    .dataframe thead th {\n",
       "        text-align: right;\n",
       "    }\n",
       "</style>\n",
       "<table border=\"1\" class=\"dataframe\">\n",
       "  <thead>\n",
       "    <tr style=\"text-align: right;\">\n",
       "      <th></th>\n",
       "      <th>dc:title</th>\n",
       "      <th>prism:publicationName</th>\n",
       "      <th>prism:coverDate</th>\n",
       "      <th>dc:creator</th>\n",
       "    </tr>\n",
       "  </thead>\n",
       "  <tbody>\n",
       "    <tr>\n",
       "      <th>0</th>\n",
       "      <td>Academic Map Library Weeding – Thoughts and Gu...</td>\n",
       "      <td>Association of Canadian Map Libraries and Arch...</td>\n",
       "      <td>2023-12-01</td>\n",
       "      <td>Chandler M.</td>\n",
       "    </tr>\n",
       "    <tr>\n",
       "      <th>1</th>\n",
       "      <td>Learning from a Distance: Assessing the impact...</td>\n",
       "      <td>Association of Canadian Map Libraries and Arch...</td>\n",
       "      <td>2023-12-01</td>\n",
       "      <td>Mondésir G.</td>\n",
       "    </tr>\n",
       "    <tr>\n",
       "      <th>2</th>\n",
       "      <td>Geographic digital divide - urban/rural issues...</td>\n",
       "      <td>Association of Canadian Map Libraries and Arch...</td>\n",
       "      <td>2023-12-01</td>\n",
       "      <td>Chandler M.</td>\n",
       "    </tr>\n",
       "    <tr>\n",
       "      <th>3</th>\n",
       "      <td>Bulletin Report – GIS Days 2022 The culminatio...</td>\n",
       "      <td>Association of Canadian Map Libraries and Arch...</td>\n",
       "      <td>2023-12-01</td>\n",
       "      <td>Berish F.</td>\n",
       "    </tr>\n",
       "    <tr>\n",
       "      <th>4</th>\n",
       "      <td>A change of art Learning research strategies i...</td>\n",
       "      <td>College and Research Libraries News</td>\n",
       "      <td>2023-04-01</td>\n",
       "      <td>Sheets L.A.</td>\n",
       "    </tr>\n",
       "    <tr>\n",
       "      <th>5</th>\n",
       "      <td>Status in academic libraries Seeking solidarit...</td>\n",
       "      <td>College and Research Libraries News</td>\n",
       "      <td>2023-04-01</td>\n",
       "      <td>Bignoli C.</td>\n",
       "    </tr>\n",
       "    <tr>\n",
       "      <th>6</th>\n",
       "      <td>Calligraphy art without boundaries Reviving hi...</td>\n",
       "      <td>College and Research Libraries News</td>\n",
       "      <td>2023-04-01</td>\n",
       "      <td>Ching S.</td>\n",
       "    </tr>\n",
       "    <tr>\n",
       "      <th>7</th>\n",
       "      <td>What’s missing? The role of community colleges...</td>\n",
       "      <td>College and Research Libraries News</td>\n",
       "      <td>2023-04-01</td>\n",
       "      <td>Wacha M.</td>\n",
       "    </tr>\n",
       "    <tr>\n",
       "      <th>8</th>\n",
       "      <td>Charged up What I learned on a day without power</td>\n",
       "      <td>College and Research Libraries News</td>\n",
       "      <td>2023-04-01</td>\n",
       "      <td>Deuink A.</td>\n",
       "    </tr>\n",
       "    <tr>\n",
       "      <th>9</th>\n",
       "      <td>2021 ACRL Academic Library Trends and Statisti...</td>\n",
       "      <td>College and Research Libraries News</td>\n",
       "      <td>2023-04-01</td>\n",
       "      <td>Taylor L.R.</td>\n",
       "    </tr>\n",
       "    <tr>\n",
       "      <th>10</th>\n",
       "      <td>BOOK BANS in the Social Media Age</td>\n",
       "      <td>Computers in Libraries</td>\n",
       "      <td>2023-04-01</td>\n",
       "      <td>Lapierre S.S.</td>\n",
       "    </tr>\n",
       "    <tr>\n",
       "      <th>11</th>\n",
       "      <td>AI Challenges to Information Literacy</td>\n",
       "      <td>Computers in Libraries</td>\n",
       "      <td>2023-04-01</td>\n",
       "      <td>Badke W.</td>\n",
       "    </tr>\n",
       "    <tr>\n",
       "      <th>12</th>\n",
       "      <td>Managing Projects, Given Limited Resources</td>\n",
       "      <td>Computers in Libraries</td>\n",
       "      <td>2023-04-01</td>\n",
       "      <td>Kim B.</td>\n",
       "    </tr>\n",
       "    <tr>\n",
       "      <th>13</th>\n",
       "      <td>Article-Based Operating Systems, Access, and P...</td>\n",
       "      <td>Computers in Libraries</td>\n",
       "      <td>2023-04-01</td>\n",
       "      <td>Huwe T.K.</td>\n",
       "    </tr>\n",
       "    <tr>\n",
       "      <th>14</th>\n",
       "      <td>How We Used OCLC’s GreenGlass to Manage Monogr...</td>\n",
       "      <td>Computers in Libraries</td>\n",
       "      <td>2023-04-01</td>\n",
       "      <td>Day M.</td>\n",
       "    </tr>\n",
       "    <tr>\n",
       "      <th>15</th>\n",
       "      <td>The Current State and Challenges in Democratiz...</td>\n",
       "      <td>Information Technology and Libraries</td>\n",
       "      <td>2023-03-01</td>\n",
       "      <td>Avgousti A.</td>\n",
       "    </tr>\n",
       "    <tr>\n",
       "      <th>16</th>\n",
       "      <td>Japanese Military “Comfort Women” Knowledge Gr...</td>\n",
       "      <td>Information Technology and Libraries</td>\n",
       "      <td>2023-03-01</td>\n",
       "      <td>Park H.</td>\n",
       "    </tr>\n",
       "    <tr>\n",
       "      <th>17</th>\n",
       "      <td>Decision-Making in the Selection, Procurement,...</td>\n",
       "      <td>Information Technology and Libraries</td>\n",
       "      <td>2023-03-01</td>\n",
       "      <td>Guo J.X.</td>\n",
       "    </tr>\n",
       "    <tr>\n",
       "      <th>18</th>\n",
       "      <td>Exploring Final Project Trends Utilizing Nucle...</td>\n",
       "      <td>Information Technology and Libraries</td>\n",
       "      <td>2023-03-01</td>\n",
       "      <td>Santosa F.A.</td>\n",
       "    </tr>\n",
       "    <tr>\n",
       "      <th>19</th>\n",
       "      <td>Virtual Production at Cloud901 in the Memphis ...</td>\n",
       "      <td>Information Technology and Libraries</td>\n",
       "      <td>2023-03-01</td>\n",
       "      <td>Mason D.</td>\n",
       "    </tr>\n",
       "    <tr>\n",
       "      <th>20</th>\n",
       "      <td>Services to Mobile Users</td>\n",
       "      <td>Information Technology and Libraries</td>\n",
       "      <td>2023-03-01</td>\n",
       "      <td>Liu Y.Q.</td>\n",
       "    </tr>\n",
       "    <tr>\n",
       "      <th>21</th>\n",
       "      <td>Letter from the Editors</td>\n",
       "      <td>Information Technology and Libraries</td>\n",
       "      <td>2023-03-01</td>\n",
       "      <td>Varnum K.J.</td>\n",
       "    </tr>\n",
       "    <tr>\n",
       "      <th>22</th>\n",
       "      <td>Few changes shown in cancer information-seekin...</td>\n",
       "      <td>Health Information and Libraries Journal</td>\n",
       "      <td>2023-03-01</td>\n",
       "      <td>Jiang S.</td>\n",
       "    </tr>\n",
       "    <tr>\n",
       "      <th>23</th>\n",
       "      <td>Health literacy and consumer health information</td>\n",
       "      <td>Health Information and Libraries Journal</td>\n",
       "      <td>2023-03-01</td>\n",
       "      <td>Grant M.J.</td>\n",
       "    </tr>\n",
       "    <tr>\n",
       "      <th>24</th>\n",
       "      <td>Using technology to promote the development of...</td>\n",
       "      <td>Health Information and Libraries Journal</td>\n",
       "      <td>2023-03-01</td>\n",
       "      <td>Zhang J.</td>\n",
       "    </tr>\n",
       "  </tbody>\n",
       "</table>\n",
       "</div>"
      ],
      "text/plain": [
       "                                             dc:title  \\\n",
       "0   Academic Map Library Weeding – Thoughts and Gu...   \n",
       "1   Learning from a Distance: Assessing the impact...   \n",
       "2   Geographic digital divide - urban/rural issues...   \n",
       "3   Bulletin Report – GIS Days 2022 The culminatio...   \n",
       "4   A change of art Learning research strategies i...   \n",
       "5   Status in academic libraries Seeking solidarit...   \n",
       "6   Calligraphy art without boundaries Reviving hi...   \n",
       "7   What’s missing? The role of community colleges...   \n",
       "8    Charged up What I learned on a day without power   \n",
       "9   2021 ACRL Academic Library Trends and Statisti...   \n",
       "10                  BOOK BANS in the Social Media Age   \n",
       "11              AI Challenges to Information Literacy   \n",
       "12         Managing Projects, Given Limited Resources   \n",
       "13  Article-Based Operating Systems, Access, and P...   \n",
       "14  How We Used OCLC’s GreenGlass to Manage Monogr...   \n",
       "15  The Current State and Challenges in Democratiz...   \n",
       "16  Japanese Military “Comfort Women” Knowledge Gr...   \n",
       "17  Decision-Making in the Selection, Procurement,...   \n",
       "18  Exploring Final Project Trends Utilizing Nucle...   \n",
       "19  Virtual Production at Cloud901 in the Memphis ...   \n",
       "20                           Services to Mobile Users   \n",
       "21                            Letter from the Editors   \n",
       "22  Few changes shown in cancer information-seekin...   \n",
       "23    Health literacy and consumer health information   \n",
       "24  Using technology to promote the development of...   \n",
       "\n",
       "                                prism:publicationName prism:coverDate  \\\n",
       "0   Association of Canadian Map Libraries and Arch...      2023-12-01   \n",
       "1   Association of Canadian Map Libraries and Arch...      2023-12-01   \n",
       "2   Association of Canadian Map Libraries and Arch...      2023-12-01   \n",
       "3   Association of Canadian Map Libraries and Arch...      2023-12-01   \n",
       "4                 College and Research Libraries News      2023-04-01   \n",
       "5                 College and Research Libraries News      2023-04-01   \n",
       "6                 College and Research Libraries News      2023-04-01   \n",
       "7                 College and Research Libraries News      2023-04-01   \n",
       "8                 College and Research Libraries News      2023-04-01   \n",
       "9                 College and Research Libraries News      2023-04-01   \n",
       "10                             Computers in Libraries      2023-04-01   \n",
       "11                             Computers in Libraries      2023-04-01   \n",
       "12                             Computers in Libraries      2023-04-01   \n",
       "13                             Computers in Libraries      2023-04-01   \n",
       "14                             Computers in Libraries      2023-04-01   \n",
       "15               Information Technology and Libraries      2023-03-01   \n",
       "16               Information Technology and Libraries      2023-03-01   \n",
       "17               Information Technology and Libraries      2023-03-01   \n",
       "18               Information Technology and Libraries      2023-03-01   \n",
       "19               Information Technology and Libraries      2023-03-01   \n",
       "20               Information Technology and Libraries      2023-03-01   \n",
       "21               Information Technology and Libraries      2023-03-01   \n",
       "22           Health Information and Libraries Journal      2023-03-01   \n",
       "23           Health Information and Libraries Journal      2023-03-01   \n",
       "24           Health Information and Libraries Journal      2023-03-01   \n",
       "\n",
       "       dc:creator  \n",
       "0     Chandler M.  \n",
       "1     Mondésir G.  \n",
       "2     Chandler M.  \n",
       "3       Berish F.  \n",
       "4     Sheets L.A.  \n",
       "5      Bignoli C.  \n",
       "6        Ching S.  \n",
       "7        Wacha M.  \n",
       "8       Deuink A.  \n",
       "9     Taylor L.R.  \n",
       "10  Lapierre S.S.  \n",
       "11       Badke W.  \n",
       "12         Kim B.  \n",
       "13      Huwe T.K.  \n",
       "14         Day M.  \n",
       "15    Avgousti A.  \n",
       "16        Park H.  \n",
       "17       Guo J.X.  \n",
       "18   Santosa F.A.  \n",
       "19       Mason D.  \n",
       "20       Liu Y.Q.  \n",
       "21    Varnum K.J.  \n",
       "22       Jiang S.  \n",
       "23     Grant M.J.  \n",
       "24       Zhang J.  "
      ]
     },
     "execution_count": 16,
     "metadata": {},
     "output_type": "execute_result"
    }
   ],
   "source": [
    "df[['dc:title', 'prism:publicationName','prism:coverDate', 'dc:creator']]"
   ]
  },
  {
   "cell_type": "markdown",
   "id": "dc7802dd-9f1f-4225-858c-6e39ab5b603d",
   "metadata": {},
   "source": [
    "### Query by journal ISSN\n",
    "Here's an example where we page through more than 25 search results, by asking for all of the articles from a specific ISSN within a date range. Let's re-assign our search parameters:"
   ]
  },
  {
   "cell_type": "code",
   "execution_count": 48,
   "id": "97ca526a-8e31-4820-9c33-4bad12931d2f",
   "metadata": {},
   "outputs": [
    {
     "name": "stdout",
     "output_type": "stream",
     "text": [
      "ISSN(23301643) AND PUBYEAR > 2013 AND PUBYEAR < 2018\n"
     ]
    }
   ],
   "source": [
    "search_string_parameters = {\n",
    "    'ISSN' : '23301643', # the ISSN for Journal of the Association for Information Science and Technology (JASIST)\n",
    "    'AUTHOR-NAME' : '', \n",
    "    'KEY' : '', \n",
    "    'PUBLISHER' : '', \n",
    "    'EXACTSRCTITLE' : '', \n",
    "    'TITLE' : '', \n",
    "    'start_year' : 2013, \n",
    "    'end_year' : 2018 \n",
    "}\n",
    "search_string = search_builder(search_string_parameters)\n",
    "print(search_string)"
   ]
  },
  {
   "cell_type": "markdown",
   "id": "39e80f1d-d985-4621-87d9-c804dbafc45f",
   "metadata": {},
   "source": [
    "This time we want to send in our API call repeatedly, so every page of search results (25 at a time). We can use a while statement to continue to call the API and collect results until the ```r_json['cursor'][@next]``` value is equal to the ```r_json['cursor'][@current]``` value (meaning there are no more new results reflected in the @next token).\n",
    "\n",
    "Before we send each request, we also want to make sure we're following [Elsevier's throttling rates](https://dev.elsevier.com/api_key_settings.html) so that we're not running into our weekly limit or sending in more calls per second than are allowed. The default settings for the Scopus Search API are 20,000 results per week, and 9 requests per second. We can import and use the time.sleep() method to pause our requests by 0.12 seconds each iteration of the while loop."
   ]
  },
  {
   "cell_type": "code",
   "execution_count": 49,
   "id": "6a3434c4-eef4-45d6-9ba5-2d7c7749ddb4",
   "metadata": {},
   "outputs": [],
   "source": [
    "import time"
   ]
  },
  {
   "cell_type": "code",
   "execution_count": 60,
   "id": "87e19efe-7486-4bbf-a895-f5d05079c2b5",
   "metadata": {},
   "outputs": [
    {
     "name": "stdout",
     "output_type": "stream",
     "text": [
      "Collecting 802 results.\n",
      "Limit: 20000 \n",
      "Remaining: 19926 \n",
      "Resets on: 2023-05-10 00:20:57\n",
      "Loop done. Collected 802 rows.\n"
     ]
    }
   ],
   "source": [
    "# create default values for variable to track during while statement\n",
    "next_ = '*'\n",
    "flag = True\n",
    "\n",
    "# when there are no more results we'll set the flag to false, stopping the while statement\n",
    "while flag:\n",
    "    # pause for .12 seconds\n",
    "    time.sleep(0.12)\n",
    "    \n",
    "    #create url and send API call\n",
    "    full_url = create_url(search_string)\n",
    "    r_json, r_headers = connect_to_endpoint(full_url, next_ = next_)\n",
    "\n",
    "    # track number of results\n",
    "    total_results = int(r_json['opensearch:totalResults'])\n",
    "    \n",
    "    # if on first page of results save to new dataframe\n",
    "    if r_json['cursor']['@current'] == '*':\n",
    "        print('Collecting', total_results, 'results.')\n",
    "        print('Limit:', r_headers['X-RateLimit-Limit'], \n",
    "          '\\nRemaining:', r_headers['X-RateLimit-Remaining'], \n",
    "          '\\nResets on:', datetime.fromtimestamp(int(r_headers['X-RateLimit-Reset'])))\n",
    "        df = pd.DataFrame(r_json['entry'])\n",
    "        \n",
    "        # if there are more results available than are remaining in your weekly limit, stop the while loop\n",
    "        if total_results > int(r_headers['X-RateLimit-Remaining']):\n",
    "            print(\"\\n** Too many results to collect this week - stopping loop. **\")\n",
    "            break \n",
    "    \n",
    "    # if we're on the last page of results, change flag to False and end While statement\n",
    "    elif r_json['cursor']['@next'] == r_json['cursor']['@current']:\n",
    "        print('Loop done. Collected', len(df), 'rows.')\n",
    "        flag = False\n",
    "    \n",
    "    # otherwise add result to existing df and continue\n",
    "    else:\n",
    "        df_add = pd.DataFrame(r_json['entry'])\n",
    "        df = pd.concat([df, df_add])\n",
    "    \n",
    "    # update the next_ variable for the next iteration through the while statement\n",
    "    next_ = r_json['cursor']['@next']"
   ]
  },
  {
   "cell_type": "markdown",
   "id": "d4a1ea0d-59a5-4c57-ae22-f0da52f37136",
   "metadata": {},
   "source": [
    "We can take a look at the first few rows of the dataframe to make sure things look ok:"
   ]
  },
  {
   "cell_type": "code",
   "execution_count": 61,
   "id": "360c668f-4d6b-48a6-b998-8a3d8dd4a4c2",
   "metadata": {},
   "outputs": [
    {
     "data": {
      "text/plain": [
       "802"
      ]
     },
     "execution_count": 61,
     "metadata": {},
     "output_type": "execute_result"
    }
   ],
   "source": [
    "len(df)"
   ]
  },
  {
   "cell_type": "markdown",
   "id": "f8b67cdb-fc43-4f18-ba82-d61397420d5d",
   "metadata": {},
   "source": [
    "We can also call a subset of the dataframe columns to look at interesting metadata, and sort the results by the articles that are the most highly cited (using the ```citedby-count``` field)."
   ]
  },
  {
   "cell_type": "code",
   "execution_count": 62,
   "id": "17d079c0-5f2f-492b-8a11-2f2b9bab6d3c",
   "metadata": {},
   "outputs": [
    {
     "data": {
      "text/html": [
       "<div>\n",
       "<style scoped>\n",
       "    .dataframe tbody tr th:only-of-type {\n",
       "        vertical-align: middle;\n",
       "    }\n",
       "\n",
       "    .dataframe tbody tr th {\n",
       "        vertical-align: top;\n",
       "    }\n",
       "\n",
       "    .dataframe thead th {\n",
       "        text-align: right;\n",
       "    }\n",
       "</style>\n",
       "<table border=\"1\" class=\"dataframe\">\n",
       "  <thead>\n",
       "    <tr style=\"text-align: right;\">\n",
       "      <th></th>\n",
       "      <th>dc:title</th>\n",
       "      <th>prism:coverDate</th>\n",
       "      <th>dc:creator</th>\n",
       "      <th>citedby-count</th>\n",
       "    </tr>\n",
       "  </thead>\n",
       "  <tbody>\n",
       "    <tr>\n",
       "      <th>23</th>\n",
       "      <td>The knowledge base and research front of infor...</td>\n",
       "      <td>2014-05-01</td>\n",
       "      <td>Zhao D.</td>\n",
       "      <td>98</td>\n",
       "    </tr>\n",
       "    <tr>\n",
       "      <th>24</th>\n",
       "      <td>Patent overlay mapping: Visualizing technologi...</td>\n",
       "      <td>2014-12-01</td>\n",
       "      <td>Kay L.</td>\n",
       "      <td>98</td>\n",
       "    </tr>\n",
       "    <tr>\n",
       "      <th>16</th>\n",
       "      <td>Multidimensional assessment of scholarly resea...</td>\n",
       "      <td>2015-10-01</td>\n",
       "      <td>Moed H.F.</td>\n",
       "      <td>95</td>\n",
       "    </tr>\n",
       "    <tr>\n",
       "      <th>22</th>\n",
       "      <td>F1000 recommendations as a potential new data ...</td>\n",
       "      <td>2014-03-01</td>\n",
       "      <td>Waltman L.</td>\n",
       "      <td>94</td>\n",
       "    </tr>\n",
       "    <tr>\n",
       "      <th>2</th>\n",
       "      <td>Comparing grounded theory and topic modeling: ...</td>\n",
       "      <td>2017-06-01</td>\n",
       "      <td>Baumer E.P.S.</td>\n",
       "      <td>94</td>\n",
       "    </tr>\n",
       "    <tr>\n",
       "      <th>3</th>\n",
       "      <td>Open-access repositories worldwide, 2005-2012:...</td>\n",
       "      <td>2014-12-01</td>\n",
       "      <td>Pinfield S.</td>\n",
       "      <td>92</td>\n",
       "    </tr>\n",
       "    <tr>\n",
       "      <th>24</th>\n",
       "      <td>When are readership counts as useful as citati...</td>\n",
       "      <td>2016-01-01</td>\n",
       "      <td>Maflahi N.</td>\n",
       "      <td>92</td>\n",
       "    </tr>\n",
       "    <tr>\n",
       "      <th>10</th>\n",
       "      <td>Map of science with topic modeling: Comparison...</td>\n",
       "      <td>2016-10-01</td>\n",
       "      <td>Suominen A.</td>\n",
       "      <td>91</td>\n",
       "    </tr>\n",
       "    <tr>\n",
       "      <th>10</th>\n",
       "      <td>User engagement in online News: Under the scop...</td>\n",
       "      <td>2014-10-01</td>\n",
       "      <td>Arapakis I.</td>\n",
       "      <td>90</td>\n",
       "    </tr>\n",
       "    <tr>\n",
       "      <th>18</th>\n",
       "      <td>Can Mendeley bookmarks reflect readership? A s...</td>\n",
       "      <td>2016-05-01</td>\n",
       "      <td>Mohammadi E.</td>\n",
       "      <td>90</td>\n",
       "    </tr>\n",
       "  </tbody>\n",
       "</table>\n",
       "</div>"
      ],
      "text/plain": [
       "                                             dc:title prism:coverDate  \\\n",
       "23  The knowledge base and research front of infor...      2014-05-01   \n",
       "24  Patent overlay mapping: Visualizing technologi...      2014-12-01   \n",
       "16  Multidimensional assessment of scholarly resea...      2015-10-01   \n",
       "22  F1000 recommendations as a potential new data ...      2014-03-01   \n",
       "2   Comparing grounded theory and topic modeling: ...      2017-06-01   \n",
       "3   Open-access repositories worldwide, 2005-2012:...      2014-12-01   \n",
       "24  When are readership counts as useful as citati...      2016-01-01   \n",
       "10  Map of science with topic modeling: Comparison...      2016-10-01   \n",
       "10  User engagement in online News: Under the scop...      2014-10-01   \n",
       "18  Can Mendeley bookmarks reflect readership? A s...      2016-05-01   \n",
       "\n",
       "       dc:creator citedby-count  \n",
       "23        Zhao D.            98  \n",
       "24         Kay L.            98  \n",
       "16      Moed H.F.            95  \n",
       "22     Waltman L.            94  \n",
       "2   Baumer E.P.S.            94  \n",
       "3     Pinfield S.            92  \n",
       "24     Maflahi N.            92  \n",
       "10    Suominen A.            91  \n",
       "10    Arapakis I.            90  \n",
       "18   Mohammadi E.            90  "
      ]
     },
     "execution_count": 62,
     "metadata": {},
     "output_type": "execute_result"
    }
   ],
   "source": [
    "df[['dc:title', 'prism:coverDate', 'dc:creator', 'citedby-count']].sort_values(by='citedby-count', ascending=False)[0:10]"
   ]
  },
  {
   "cell_type": "markdown",
   "id": "cfeb65c5-302c-4147-a2fd-c66d16254911",
   "metadata": {},
   "source": [
    "### Save the results\n",
    "After collecting data it's a good idea to save it to a pickle file which can be read into Python later on."
   ]
  },
  {
   "cell_type": "code",
   "execution_count": 63,
   "id": "520ef02d-58f3-47c5-908c-5cb1eee021d9",
   "metadata": {},
   "outputs": [],
   "source": [
    "with open('api_results.pickle', 'wb') as handle:\n",
    "    pickle.dump(df, handle, protocol=pickle.HIGHEST_PROTOCOL)"
   ]
  },
  {
   "cell_type": "markdown",
   "id": "bb754fc6-ed7e-41e2-84dc-ec8058ca7808",
   "metadata": {},
   "source": [
    "And here's how you can reassign the pickle file to a python variable to use in a different notebook or in a future session (after you stop this kernel). "
   ]
  },
  {
   "cell_type": "code",
   "execution_count": 64,
   "id": "14f4ab3c-979c-421e-b2c4-603509f1f5ca",
   "metadata": {},
   "outputs": [
    {
     "name": "stdout",
     "output_type": "stream",
     "text": [
      "The dataframes are equal: True\n"
     ]
    }
   ],
   "source": [
    "with open('api_results.pickle', 'rb') as handle:\n",
    "    articles_df = pickle.load(handle)\n",
    "\n",
    "# check to make sure the pickle file is the exact same as the original dataframe\n",
    "print('The dataframes are equal:', df.equals(articles_df))"
   ]
  },
  {
   "cell_type": "markdown",
   "id": "3807da16-4c8a-49a7-96d5-792230a18710",
   "metadata": {},
   "source": [
    "### Abstract Retrieval API: DOI search\n",
    "\n",
    "Let's modify our create_url and connect_to_endpoint functions to work specifically with DOIs in the Abstract Retrieval API.\n",
    "\n",
    "Since the only metadata we need to send to the Abstract Retrieval API is an article DOI, we'll change the create_url function to work with DOIs. We'll also modify connect_to_endpoint to add a header that asks for the data back in JSON format, and we'll remove the need to page through results (each DOI query should only find one match)."
   ]
  },
  {
   "cell_type": "code",
   "execution_count": 65,
   "id": "28d844da-7b39-4d42-9cec-280f54a925f2",
   "metadata": {},
   "outputs": [],
   "source": [
    "def create_url(doi):\n",
    "    \"\"\"Accepts a DOI as a string that will be added to the Abstract Retrieval API URL. \n",
    "    Requires a global api_key variable.\n",
    "    Formats and returns a URL to send to the Abstract Retrieval API.\n",
    "    \"\"\"\n",
    "    doi = f'{doi}'\n",
    "    url_template = 'https://api.elsevier.com/content/abstract/doi/{doi}?&apiKey={api_key}'\n",
    "    full_url = url_template.format(doi=doi, api_key=api_key)\n",
    "    return full_url\n",
    "\n",
    "def connect_to_endpoint(full_url):\n",
    "    '''Input full_url from create_url function;\n",
    "    Send request to Scopus Abstract Retrieval API\n",
    "    Returns r.json response;'''\n",
    "    \n",
    "    r = requests.get(full_url, headers =  {'Accept': 'application/json'})\n",
    "    r.raise_for_status()\n",
    "    return r.json(), r.headers"
   ]
  },
  {
   "cell_type": "markdown",
   "id": "9c2ab271-5b8c-4109-a850-b5261e00fb27",
   "metadata": {},
   "source": [
    "You can load your own list of DOIs to work with here. This example below uses a random sample of 25 DOIs from LIS journals over the last 20 years. First we'll load the DOIs from a CSV file."
   ]
  },
  {
   "cell_type": "code",
   "execution_count": 70,
   "id": "158ff068-24a9-47e3-8b5a-7618698567bc",
   "metadata": {},
   "outputs": [
    {
     "data": {
      "text/html": [
       "<div>\n",
       "<style scoped>\n",
       "    .dataframe tbody tr th:only-of-type {\n",
       "        vertical-align: middle;\n",
       "    }\n",
       "\n",
       "    .dataframe tbody tr th {\n",
       "        vertical-align: top;\n",
       "    }\n",
       "\n",
       "    .dataframe thead th {\n",
       "        text-align: right;\n",
       "    }\n",
       "</style>\n",
       "<table border=\"1\" class=\"dataframe\">\n",
       "  <thead>\n",
       "    <tr style=\"text-align: right;\">\n",
       "      <th></th>\n",
       "      <th>doi</th>\n",
       "    </tr>\n",
       "  </thead>\n",
       "  <tbody>\n",
       "    <tr>\n",
       "      <th>0</th>\n",
       "      <td>10.1109/TIT.2008.928267</td>\n",
       "    </tr>\n",
       "    <tr>\n",
       "      <th>1</th>\n",
       "      <td>10.1109/TIT.2004.838092</td>\n",
       "    </tr>\n",
       "    <tr>\n",
       "      <th>2</th>\n",
       "      <td>10.1109/TIT.2015.2504967</td>\n",
       "    </tr>\n",
       "    <tr>\n",
       "      <th>3</th>\n",
       "      <td>10.1108/GKMC-09-2021-0151</td>\n",
       "    </tr>\n",
       "    <tr>\n",
       "      <th>4</th>\n",
       "      <td>10.1080/14778238.2020.1860663</td>\n",
       "    </tr>\n",
       "  </tbody>\n",
       "</table>\n",
       "</div>"
      ],
      "text/plain": [
       "                             doi\n",
       "0        10.1109/TIT.2008.928267\n",
       "1        10.1109/TIT.2004.838092\n",
       "2       10.1109/TIT.2015.2504967\n",
       "3      10.1108/GKMC-09-2021-0151\n",
       "4  10.1080/14778238.2020.1860663"
      ]
     },
     "execution_count": 70,
     "metadata": {},
     "output_type": "execute_result"
    }
   ],
   "source": [
    "# random sample of 25 DOIs from LIS journals\n",
    "dois = pd.read_csv('doi_sample.csv')\n",
    "dois.head()"
   ]
  },
  {
   "cell_type": "code",
   "execution_count": 75,
   "id": "6488657f-8c5d-492e-9191-739284db4e3e",
   "metadata": {},
   "outputs": [
    {
     "data": {
      "text/plain": [
       "'10.1109/TIT.2008.928267'"
      ]
     },
     "execution_count": 75,
     "metadata": {},
     "output_type": "execute_result"
    }
   ],
   "source": [
    "dois.loc[0][0]"
   ]
  },
  {
   "cell_type": "markdown",
   "id": "bc19974d-f321-417a-9301-3a247ed224bf",
   "metadata": {},
   "source": [
    "We can test the code using a single DOI from the list. First we'll build the URL:"
   ]
  },
  {
   "cell_type": "code",
   "execution_count": 84,
   "id": "732d1335-04e7-46a0-9a03-fb7de7352aba",
   "metadata": {},
   "outputs": [
    {
     "name": "stdout",
     "output_type": "stream",
     "text": [
      "https://api.elsevier.com/content/abstract/doi/10.1109/TIT.2008.928267?&apiKey=6101173765c12924236cea2dddf74014\n"
     ]
    }
   ],
   "source": [
    "full_url = create_url(dois.loc[0][0])\n",
    "print(full_url)"
   ]
  },
  {
   "cell_type": "markdown",
   "id": "0f6ed3c7-17ab-44c9-9550-9c4564064a76",
   "metadata": {},
   "source": [
    "Then we can make the API request. You might notice that your API rate limit is different for the Abstract Retrieval API, and that the number of requests you can make for this API doesn't count against the requests you made for the Scopus Search API:"
   ]
  },
  {
   "cell_type": "code",
   "execution_count": 129,
   "id": "ec777e83-e076-4b1e-b7ca-ad74db7127ed",
   "metadata": {},
   "outputs": [
    {
     "name": "stdout",
     "output_type": "stream",
     "text": [
      "Limit: 60000 \n",
      "Remaining: 59994 \n",
      "Resets on: 2023-05-10 02:00:26\n"
     ]
    }
   ],
   "source": [
    "r_json, r_headers = connect_to_endpoint(full_url)\n",
    "print('Limit:', r_headers['X-RateLimit-Limit'], \n",
    "      '\\nRemaining:', r_headers['X-RateLimit-Remaining'], \n",
    "      '\\nResets on:', datetime.fromtimestamp(int(r_headers['X-RateLimit-Reset'])))"
   ]
  },
  {
   "cell_type": "markdown",
   "id": "a5c46d40-d44f-4fd1-a803-74fd9819c59f",
   "metadata": {},
   "source": [
    "Let's take a closer look at the r_json object by listing the dictionary keys:"
   ]
  },
  {
   "cell_type": "code",
   "execution_count": 130,
   "id": "e6a88756-ba06-4170-a6e2-bf78fcd16616",
   "metadata": {},
   "outputs": [
    {
     "data": {
      "text/plain": [
       "dict_keys(['abstracts-retrieval-response'])"
      ]
     },
     "execution_count": 130,
     "metadata": {},
     "output_type": "execute_result"
    }
   ],
   "source": [
    "r_json.keys()"
   ]
  },
  {
   "cell_type": "markdown",
   "id": "0c8311fe-52e3-4e1c-b761-a27a4c070698",
   "metadata": {},
   "source": [
    "We can look at the record in a dataframe, though as we look at the results many of the cells contain chains of other key:value pairs that are a little difficult to read. "
   ]
  },
  {
   "cell_type": "code",
   "execution_count": 131,
   "id": "162a1ade-c72c-4860-9933-9db7d874fccd",
   "metadata": {},
   "outputs": [
    {
     "data": {
      "text/html": [
       "<div>\n",
       "<style scoped>\n",
       "    .dataframe tbody tr th:only-of-type {\n",
       "        vertical-align: middle;\n",
       "    }\n",
       "\n",
       "    .dataframe tbody tr th {\n",
       "        vertical-align: top;\n",
       "    }\n",
       "\n",
       "    .dataframe thead th {\n",
       "        text-align: right;\n",
       "    }\n",
       "</style>\n",
       "<table border=\"1\" class=\"dataframe\">\n",
       "  <thead>\n",
       "    <tr style=\"text-align: right;\">\n",
       "      <th></th>\n",
       "      <th>affiliation</th>\n",
       "      <th>item.ait:process-info.ait:status.@state</th>\n",
       "      <th>item.ait:process-info.ait:status.@type</th>\n",
       "      <th>item.ait:process-info.ait:status.@stage</th>\n",
       "      <th>item.ait:process-info.ait:date-delivered.@day</th>\n",
       "      <th>item.ait:process-info.ait:date-delivered.@timestamp</th>\n",
       "      <th>item.ait:process-info.ait:date-delivered.@year</th>\n",
       "      <th>item.ait:process-info.ait:date-delivered.@month</th>\n",
       "      <th>item.ait:process-info.ait:date-sort.@day</th>\n",
       "      <th>item.ait:process-info.ait:date-sort.@year</th>\n",
       "      <th>...</th>\n",
       "      <th>coredata.openaccessFlag</th>\n",
       "      <th>coredata.prism:doi</th>\n",
       "      <th>coredata.prism:issn</th>\n",
       "      <th>coredata.prism:startingPage</th>\n",
       "      <th>coredata.dc:identifier</th>\n",
       "      <th>idxterms.mainterm</th>\n",
       "      <th>language.@xml:lang</th>\n",
       "      <th>authkeywords.author-keyword</th>\n",
       "      <th>subject-areas.subject-area</th>\n",
       "      <th>authors.author</th>\n",
       "    </tr>\n",
       "  </thead>\n",
       "  <tbody>\n",
       "    <tr>\n",
       "      <th>0</th>\n",
       "      <td>[{'affiliation-city': 'College Park', '@id': '...</td>\n",
       "      <td>update</td>\n",
       "      <td>core</td>\n",
       "      <td>S300</td>\n",
       "      <td>12</td>\n",
       "      <td>2022-04-12T17:27:35.000035-04:00</td>\n",
       "      <td>2022</td>\n",
       "      <td>04</td>\n",
       "      <td>15</td>\n",
       "      <td>2008</td>\n",
       "      <td>...</td>\n",
       "      <td>None</td>\n",
       "      <td>10.1109/TIT.2008.928267</td>\n",
       "      <td>00189448</td>\n",
       "      <td>4372</td>\n",
       "      <td>SCOPUS_ID:51349103946</td>\n",
       "      <td>[{'$': 'Capacity region', '@weight': 'a', '@ca...</td>\n",
       "      <td>eng</td>\n",
       "      <td>[{'@_fa': 'true', '$': 'Capacity region'}, {'@...</td>\n",
       "      <td>[{'@_fa': 'true', '$': 'Information Systems', ...</td>\n",
       "      <td>[{'ce:given-name': 'Nan', 'preferred-name': {'...</td>\n",
       "    </tr>\n",
       "  </tbody>\n",
       "</table>\n",
       "<p>1 rows × 86 columns</p>\n",
       "</div>"
      ],
      "text/plain": [
       "                                         affiliation  \\\n",
       "0  [{'affiliation-city': 'College Park', '@id': '...   \n",
       "\n",
       "  item.ait:process-info.ait:status.@state  \\\n",
       "0                                  update   \n",
       "\n",
       "  item.ait:process-info.ait:status.@type  \\\n",
       "0                                   core   \n",
       "\n",
       "  item.ait:process-info.ait:status.@stage  \\\n",
       "0                                    S300   \n",
       "\n",
       "  item.ait:process-info.ait:date-delivered.@day  \\\n",
       "0                                            12   \n",
       "\n",
       "  item.ait:process-info.ait:date-delivered.@timestamp  \\\n",
       "0                   2022-04-12T17:27:35.000035-04:00    \n",
       "\n",
       "  item.ait:process-info.ait:date-delivered.@year  \\\n",
       "0                                           2022   \n",
       "\n",
       "  item.ait:process-info.ait:date-delivered.@month  \\\n",
       "0                                              04   \n",
       "\n",
       "  item.ait:process-info.ait:date-sort.@day  \\\n",
       "0                                       15   \n",
       "\n",
       "  item.ait:process-info.ait:date-sort.@year  ... coredata.openaccessFlag  \\\n",
       "0                                      2008  ...                    None   \n",
       "\n",
       "        coredata.prism:doi coredata.prism:issn coredata.prism:startingPage  \\\n",
       "0  10.1109/TIT.2008.928267            00189448                        4372   \n",
       "\n",
       "  coredata.dc:identifier                                  idxterms.mainterm  \\\n",
       "0  SCOPUS_ID:51349103946  [{'$': 'Capacity region', '@weight': 'a', '@ca...   \n",
       "\n",
       "  language.@xml:lang                        authkeywords.author-keyword  \\\n",
       "0                eng  [{'@_fa': 'true', '$': 'Capacity region'}, {'@...   \n",
       "\n",
       "                          subject-areas.subject-area  \\\n",
       "0  [{'@_fa': 'true', '$': 'Information Systems', ...   \n",
       "\n",
       "                                      authors.author  \n",
       "0  [{'ce:given-name': 'Nan', 'preferred-name': {'...  \n",
       "\n",
       "[1 rows x 86 columns]"
      ]
     },
     "execution_count": 131,
     "metadata": {},
     "output_type": "execute_result"
    }
   ],
   "source": [
    "r_json = r_json['abstracts-retrieval-response']\n",
    "abstract_df = pd.json_normalize(r_json)\n",
    "abstract_df"
   ]
  },
  {
   "cell_type": "markdown",
   "id": "d8fbf621-54bd-4eda-975a-4f85fe5a1a7d",
   "metadata": {},
   "source": [
    "Let's print out the cell values from each column to get a better sense of all of the data available in the JSON response."
   ]
  },
  {
   "cell_type": "code",
   "execution_count": 134,
   "id": "d2964765-9ee2-4121-b5a5-d6b68469d6ea",
   "metadata": {},
   "outputs": [
    {
     "name": "stdout",
     "output_type": "stream",
     "text": [
      "affiliation \n",
      " [{'affiliation-city': 'College Park', '@id': '60078684', 'affilname': 'A. James Clark School of Engineering', '@href': 'https://api.elsevier.com/content/affiliation/affiliation_id/60078684', 'affiliation-country': 'United States'}, {'affiliation-city': 'Palo Alto', '@id': '60012708', 'affilname': 'Stanford University', '@href': 'https://api.elsevier.com/content/affiliation/affiliation_id/60012708', 'affiliation-country': 'United States'}] \n",
      "\n",
      "item.ait:process-info.ait:status.@state \n",
      " update \n",
      "\n",
      "item.ait:process-info.ait:status.@type \n",
      " core \n",
      "\n",
      "item.ait:process-info.ait:status.@stage \n",
      " S300 \n",
      "\n",
      "item.ait:process-info.ait:date-delivered.@day \n",
      " 12 \n",
      "\n",
      "item.ait:process-info.ait:date-delivered.@timestamp \n",
      " 2022-04-12T17:27:35.000035-04:00 \n",
      "\n",
      "item.ait:process-info.ait:date-delivered.@year \n",
      " 2022 \n",
      "\n",
      "item.ait:process-info.ait:date-delivered.@month \n",
      " 04 \n",
      "\n",
      "item.ait:process-info.ait:date-sort.@day \n",
      " 15 \n",
      "\n",
      "item.ait:process-info.ait:date-sort.@year \n",
      " 2008 \n",
      "\n",
      "item.ait:process-info.ait:date-sort.@month \n",
      " 09 \n",
      "\n",
      "item.bibrecord.head.author-group \n",
      " [{'affiliation': {'city-group': 'College Park, MD 20742', 'country': 'United States', '@afid': '60078684', '@date-locked': '2022-02-25T16:38:11.925', '@country': 'usa', 'organization': [{'$': 'Department of Electrical and Computer Engineering'}, {'$': 'University of Maryland'}], 'affiliation-id': {'@afid': '60078684', '@dptid': '108028752'}, '@dptid': '108028752'}, 'author': [{'ce:given-name': 'Nan', 'preferred-name': {'ce:given-name': 'Nan', 'ce:initials': 'N.', 'ce:surname': 'Liu', 'ce:indexed-name': 'Liu N.'}, '@seq': '1', 'ce:initials': 'N.', '@_fa': 'true', 'ce:surname': 'Liu', '@auid': '36195904400', 'ce:indexed-name': 'Liu N.'}]}, {'affiliation': {'city-group': 'Stanford, CA 94305', 'country': 'United States', '@afid': '60012708', '@country': 'usa', 'organization': [{'$': 'Department of Electrical Engineering'}, {'$': 'Stanford University'}], 'affiliation-id': {'@afid': '60012708', '@dptid': '105433623'}, '@dptid': '105433623'}, 'author': [{'ce:given-name': 'Nan', 'preferred-name': {'ce:given-name': 'Nan', 'ce:initials': 'N.', 'ce:surname': 'Liu', 'ce:indexed-name': 'Liu N.'}, '@seq': '1', 'ce:initials': 'N.', '@_fa': 'true', 'ce:surname': 'Liu', '@auid': '36195904400', 'ce:indexed-name': 'Liu N.'}]}, {'affiliation': {'city-group': 'College Park, MD 20742', 'country': 'United States', '@afid': '60078684', '@date-locked': '2022-02-25T20:48:11.407', '@country': 'usa', 'organization': [{'$': 'Department of Electrical and Computer Engineering'}, {'$': 'University of Maryland'}], 'affiliation-id': {'@afid': '60078684', '@dptid': '108028752'}, '@dptid': '108028752'}, 'author': [{'ce:given-name': 'Sennur', 'preferred-name': {'ce:given-name': 'Sennur', 'ce:initials': 'S.', 'ce:surname': 'Ulukus', 'ce:indexed-name': 'Ulukus S.'}, '@seq': '2', 'ce:initials': 'S.', '@date-locked': '2021-07-12T12:15:37.063', '@_fa': 'true', 'ce:surname': 'Ulukus', '@auid': '7003375238', 'ce:indexed-name': 'Ulukus S.'}]}] \n",
      "\n",
      "item.bibrecord.head.citation-title \n",
      " The capacity region of a class of discrete degraded interference channels \n",
      "\n",
      "item.bibrecord.head.abstracts \n",
      " We provide a single-letter characterization for the capacity region of a class of discrete degraded interference channels (DDICs). The class of DDICs considered includes the DADIC studied by Benzel in 1979. We show that for the class of DDICs studied, encoder cooperation does not enlarge the capacity region, and therefore, the capacity region of the class of DDICs is the same as the capacity region of the corresponding degraded broadcast channel. © 2008 IEEE. \n",
      "\n",
      "item.bibrecord.head.correspondence.affiliation.city-group \n",
      " College Park, MD 20742 \n",
      "\n",
      "item.bibrecord.head.correspondence.affiliation.country \n",
      " United States \n",
      "\n",
      "item.bibrecord.head.correspondence.affiliation.@country \n",
      " usa \n",
      "\n",
      "item.bibrecord.head.correspondence.affiliation.organization \n",
      " [{'$': 'Department of Electrical and Computer Engineering'}, {'$': 'University of Maryland'}] \n",
      "\n",
      "item.bibrecord.head.correspondence.person.ce:initials \n",
      " N. \n",
      "\n",
      "item.bibrecord.head.correspondence.person.ce:surname \n",
      " Liu \n",
      "\n",
      "item.bibrecord.head.correspondence.person.ce:indexed-name \n",
      " Liu N. \n",
      "\n",
      "item.bibrecord.head.citation-info.author-keywords.author-keyword \n",
      " [{'$': 'Capacity region', '@xml:lang': 'eng'}, {'$': 'Degradedness', '@xml:lang': 'eng'}, {'$': 'Interference channel', '@xml:lang': 'eng'}] \n",
      "\n",
      "item.bibrecord.head.citation-info.citation-type.@code \n",
      " ar \n",
      "\n",
      "item.bibrecord.head.citation-info.citation-language.@language \n",
      " English \n",
      "\n",
      "item.bibrecord.head.citation-info.citation-language.@xml:lang \n",
      " eng \n",
      "\n",
      "item.bibrecord.head.citation-info.abstract-language.@language \n",
      " English \n",
      "\n",
      "item.bibrecord.head.citation-info.abstract-language.@xml:lang \n",
      " eng \n",
      "\n",
      "item.bibrecord.head.source.codencode \n",
      " IETTA \n",
      "\n",
      "item.bibrecord.head.source.sourcetitle-abbrev \n",
      " IEEE Trans. Inf. Theory \n",
      "\n",
      "item.bibrecord.head.source.@country \n",
      " usa \n",
      "\n",
      "item.bibrecord.head.source.issn.$ \n",
      " 00189448 \n",
      "\n",
      "item.bibrecord.head.source.issn.@type \n",
      " print \n",
      "\n",
      "item.bibrecord.head.source.volisspag.voliss.@volume \n",
      " 54 \n",
      "\n",
      "item.bibrecord.head.source.volisspag.voliss.@issue \n",
      " 9 \n",
      "\n",
      "item.bibrecord.head.source.volisspag.pagerange.@first \n",
      " 4372 \n",
      "\n",
      "item.bibrecord.head.source.volisspag.pagerange.@last \n",
      " 4378 \n",
      "\n",
      "item.bibrecord.head.source.@type \n",
      " j \n",
      "\n",
      "item.bibrecord.head.source.publicationyear.@first \n",
      " 2008 \n",
      "\n",
      "item.bibrecord.head.source.sourcetitle \n",
      " IEEE Transactions on Information Theory \n",
      "\n",
      "item.bibrecord.head.source.@srcid \n",
      " 15107 \n",
      "\n",
      "item.bibrecord.head.source.publicationdate.year \n",
      " 2008 \n",
      "\n",
      "item.bibrecord.head.source.publicationdate.date-text.@xfab-added \n",
      " true \n",
      "\n",
      "item.bibrecord.head.source.publicationdate.date-text.$ \n",
      " 2008 \n",
      "\n",
      "item.bibrecord.head.enhancement.classificationgroup.classifications \n",
      " [{'@type': 'ASJC', 'classification': [{'$': '1710'}, {'$': '1706'}, {'$': '3309'}]}, {'@type': 'SUBJABBR', 'classification': [{'$': 'COMP'}, {'$': 'SOCI'}]}] \n",
      "\n",
      "item.bibrecord.head.enhancement.descriptorgroup.descriptors.@controlled \n",
      " n \n",
      "\n",
      "item.bibrecord.head.enhancement.descriptorgroup.descriptors.@type \n",
      " CLU \n",
      "\n",
      "item.bibrecord.head.enhancement.descriptorgroup.descriptors.descriptor \n",
      " [{'mainterm': {'$': 'Capacity region', '@weight': 'a', '@candidate': 'n'}}, {'mainterm': {'$': 'Capacity regions', '@weight': 'a', '@candidate': 'n'}}, {'mainterm': {'$': 'Degradedness', '@weight': 'a', '@candidate': 'n'}}, {'mainterm': {'$': 'Interference channel', '@weight': 'a', '@candidate': 'n'}}] \n",
      "\n",
      "item.bibrecord.item-info.copyright.$ \n",
      " Copyright 2008 Elsevier B.V., All rights reserved. \n",
      "\n",
      "item.bibrecord.item-info.copyright.@type \n",
      " Elsevier \n",
      "\n",
      "item.bibrecord.item-info.dbcollection \n",
      " [{'$': 'CPX'}, {'$': 'SCOPUS'}, {'$': 'Scopusbase'}] \n",
      "\n",
      "item.bibrecord.item-info.history.date-created.@day \n",
      " 15 \n",
      "\n",
      "item.bibrecord.item-info.history.date-created.@year \n",
      " 2008 \n",
      "\n",
      "item.bibrecord.item-info.history.date-created.@month \n",
      " 09 \n",
      "\n",
      "item.bibrecord.item-info.itemidlist.itemid \n",
      " [{'$': '352312100', '@idtype': 'PUI'}, {'$': '20083811556818', '@idtype': 'CPX'}, {'$': '51349103946', '@idtype': 'SCP'}, {'$': '51349103946', '@idtype': 'SGR'}] \n",
      "\n",
      "item.bibrecord.item-info.itemidlist.ce:doi \n",
      " 10.1109/TIT.2008.928267 \n",
      "\n",
      "item.bibrecord.tail.bibliography.@refcount \n",
      " 13 \n",
      "\n",
      "item.bibrecord.tail.bibliography.reference \n",
      " [{'ref-fulltext': 'R. Benzel, \"The capacity region of a class of discrete additive degraded interference channels,IEEE Trans. Inf. Theory, vol. IT-25, no. 2, pp. 228-231, Mar. 1979.', '@id': '1', 'ref-info': {'ref-publicationyear': {'@first': '1979'}, 'ref-title': {'ref-titletext': 'The capacity region of a class of discrete additive degraded interference channels'}, 'refd-itemidlist': {'itemid': {'$': '0018441372', '@idtype': 'SGR'}}, 'ref-volisspag': {'voliss': {'@volume': 'IT-25', '@issue': '2'}, 'pagerange': {'@first': '228', '@last': '231'}}, 'ref-text': 'Mar', 'ref-authors': {'author': [{'@seq': '1', 'ce:initials': 'R.', '@_fa': 'true', 'ce:surname': 'Benzel', 'ce:indexed-name': 'Benzel R.'}]}, 'ref-sourcetitle': 'IEEE Trans. Inf. Theory'}}, {'ref-fulltext': 'C. E. Shannon, \"Two-Way Communication Channels,\" in Proc. 4th Berkeley Symp. Math. Stat. Prob., Berkeley, CA, 1961, vol. 1, pp. 611-644.', '@id': '2', 'ref-info': {'ref-publicationyear': {'@first': '1961'}, 'ref-title': {'ref-titletext': 'Two-Way Communication Channels'}, 'refd-itemidlist': {'itemid': {'$': '0001371497', '@idtype': 'SGR'}}, 'ref-volisspag': {'voliss': {'@volume': '1'}, 'pagerange': {'@first': '611', '@last': '644'}}, 'ref-text': 'Berkeley, CA', 'ref-authors': {'author': [{'@seq': '1', 'ce:initials': 'C.E.', '@_fa': 'true', 'ce:surname': 'Shannon', 'ce:indexed-name': 'Shannon C.E.'}]}, 'ref-sourcetitle': 'Proc. 4th Berkeley Symp. Math. Stat. Prob'}}, {'ref-fulltext': 'A. El Gamal and M. Costa, \"The capacity region of a class of deterministic interference channels,\" IEEE Trans. Inf Theory, vol. IT-28, no. 2, pp. 343-346, Mar. 1982.', '@id': '3', 'ref-info': {'ref-publicationyear': {'@first': '1982'}, 'ref-title': {'ref-titletext': 'The capacity region of a class of deterministic interference channels'}, 'refd-itemidlist': {'itemid': {'$': '0020102219', '@idtype': 'SGR'}}, 'ref-volisspag': {'voliss': {'@volume': 'IT-28', '@issue': '2'}, 'pagerange': {'@first': '343', '@last': '346'}}, 'ref-text': 'Mar', 'ref-authors': {'author': [{'@seq': '1', 'ce:initials': 'A.', '@_fa': 'true', 'ce:surname': 'El Gamal', 'ce:indexed-name': 'El Gamal A.'}, {'@seq': '2', 'ce:initials': 'M.', '@_fa': 'true', 'ce:surname': 'Costa', 'ce:indexed-name': 'Costa M.'}]}, 'ref-sourcetitle': 'IEEE Trans. Inf Theory'}}, {'ref-fulltext': 'H. Sato, \"The capacity of the Gaussian interference channel under strong interference,\" IEEE Trans. Inf. Theory, vol. IT-27, no. 6, pp. 786-788, Nov. 1981.', '@id': '4', 'ref-info': {'ref-publicationyear': {'@first': '1981'}, 'ref-title': {'ref-titletext': 'The capacity of the Gaussian interference channel under strong interference'}, 'refd-itemidlist': {'itemid': {'$': '0019635833', '@idtype': 'SGR'}}, 'ref-volisspag': {'voliss': {'@volume': 'IT-27', '@issue': '6'}, 'pagerange': {'@first': '786', '@last': '788'}}, 'ref-text': 'Nov', 'ref-authors': {'author': [{'@seq': '1', 'ce:initials': 'H.', '@_fa': 'true', 'ce:surname': 'Sato', 'ce:indexed-name': 'Sato H.'}]}, 'ref-sourcetitle': 'IEEE Trans. Inf. Theory'}}, {'ref-fulltext': 'M. Costa and A. El Gamal, \"The capacity region of the discrete memoryless interference channel with strong interference,IEEE Trans. Inf. Theory, vol. IT-33, no. 5, pp. 710-711, Sep. 1987.', '@id': '5', 'ref-info': {'ref-publicationyear': {'@first': '1987'}, 'ref-title': {'ref-titletext': 'The capacity region of the discrete memoryless interference channel with strong interference'}, 'refd-itemidlist': {'itemid': {'$': '0023420374', '@idtype': 'SGR'}}, 'ref-volisspag': {'voliss': {'@volume': 'IT-33', '@issue': '5'}, 'pagerange': {'@first': '710', '@last': '711'}}, 'ref-text': 'Sep', 'ref-authors': {'author': [{'@seq': '1', 'ce:initials': 'M.', '@_fa': 'true', 'ce:surname': 'Costa', 'ce:indexed-name': 'Costa M.'}, {'@seq': '2', 'ce:initials': 'A.', '@_fa': 'true', 'ce:surname': 'El Gamal', 'ce:indexed-name': 'El Gamal A.'}]}, 'ref-sourcetitle': 'IEEE Trans. Inf. Theory'}}, {'ref-fulltext': 'A. B. Carleial, \"Interference channels,\" IEEE Trans. Inf. Theory vol. IT-24, no. 1, pp. 60-70, Jan. 1978.', '@id': '6', 'ref-info': {'ref-publicationyear': {'@first': '1978'}, 'ref-title': {'ref-titletext': 'Interference channels'}, 'refd-itemidlist': {'itemid': {'$': '0017918923', '@idtype': 'SGR'}}, 'ref-volisspag': {'voliss': {'@volume': 'IT-24', '@issue': '1'}, 'pagerange': {'@first': '60', '@last': '70'}}, 'ref-text': 'Jan', 'ref-authors': {'author': [{'@seq': '1', 'ce:initials': 'A.B.', '@_fa': 'true', 'ce:surname': 'Carleial', 'ce:indexed-name': 'Carleial A.B.'}]}, 'ref-sourcetitle': 'IEEE Trans. Inf. Theory'}}, {'ref-fulltext': 'H. Sato, \"The two-user communication channels,\" IEEE Trans. Inf. Theory, vol. IT-23, no. 3, pp. 295-304, May 1977.', '@id': '7', 'ref-info': {'ref-publicationyear': {'@first': '1977'}, 'ref-title': {'ref-titletext': 'The two-user communication channels'}, 'refd-itemidlist': {'itemid': {'$': '0017495152', '@idtype': 'SGR'}}, 'ref-volisspag': {'voliss': {'@volume': 'IT-23', '@issue': '3'}, 'pagerange': {'@first': '295', '@last': '304'}}, 'ref-text': 'May', 'ref-authors': {'author': [{'@seq': '1', 'ce:initials': 'H.', '@_fa': 'true', 'ce:surname': 'Sato', 'ce:indexed-name': 'Sato H.'}]}, 'ref-sourcetitle': 'IEEE Trans. Inf. Theory'}}, {'ref-fulltext': 'R. Aldswede, \"Multi-way communication channels,\" in Proc. 2nd Int. Symp. Information Theory, Tsahkadsor, Armenian S.S.R., 1971, pp. 23-52.', '@id': '8', 'ref-info': {'refd-itemidlist': {'itemid': {'$': '51349111771', '@idtype': 'SGR'}}, 'ref-text': 'R. Aldswede, Multi-way communication channels, in Proc. 2nd Int. Symp. Information Theory, Tsahkadsor, Armenian S.S.R., 1971, pp. 23-52.'}}, {'ref-fulltext': 'T. M. Cover and J. A.Thomas, Elements of Information Theory. New York: Wiley-Interscience, 1991.', '@id': '9', 'ref-info': {'ref-publicationyear': {'@first': '1991'}, 'refd-itemidlist': {'itemid': {'$': '84889281816', '@idtype': 'SGR'}}, 'ref-text': 'New York: Wiley-Interscience', 'ref-authors': {'author': [{'@seq': '1', 'ce:initials': 'T.M.', '@_fa': 'true', 'ce:surname': 'Cover', 'ce:indexed-name': 'Cover T.M.'}, {'@seq': '2', 'ce:initials': 'J.A.', '@_fa': 'true', 'ce:surname': 'Thomas', 'ce:indexed-name': 'Thomas J.A.'}]}, 'ref-sourcetitle': 'Elements of Information Theory'}}, {'ref-fulltext': 'H. S. Witsenhausen and A. D. Wyner, \"A conditional entropy bound for a pair of discrete random variables,\" IEEE Trans. Inf. Theory, vol. IT-21, no. 5, pp. 493-501, Sep. 1975.', '@id': '10', 'ref-info': {'ref-publicationyear': {'@first': '1975'}, 'ref-title': {'ref-titletext': 'A conditional entropy bound for a pair of discrete random variables'}, 'refd-itemidlist': {'itemid': {'$': '0016545886', '@idtype': 'SGR'}}, 'ref-volisspag': {'voliss': {'@volume': 'IT-21', '@issue': '5'}, 'pagerange': {'@first': '493', '@last': '501'}}, 'ref-text': 'Sep', 'ref-authors': {'author': [{'@seq': '1', 'ce:initials': 'H.S.', '@_fa': 'true', 'ce:surname': 'Witsenhausen', 'ce:indexed-name': 'Witsenhausen H.S.'}, {'@seq': '2', 'ce:initials': 'A.D.', '@_fa': 'true', 'ce:surname': 'Wyner', 'ce:indexed-name': 'Wyner A.D.'}]}, 'ref-sourcetitle': 'IEEE Trans. Inf. Theory'}}, {'ref-fulltext': 'T. M. Cover, \"Broadcast channels,\" IEEE Trans. Inf. Theory, vol. IT-18, no. 1, pp. 2-14, Jan. 1972.', '@id': '11', 'ref-info': {'ref-publicationyear': {'@first': '1972'}, 'ref-title': {'ref-titletext': 'Broadcast channels'}, 'refd-itemidlist': {'itemid': {'$': '0015287303', '@idtype': 'SGR'}}, 'ref-volisspag': {'voliss': {'@volume': 'IT-18', '@issue': '1'}, 'pagerange': {'@first': '2', '@last': '14'}}, 'ref-text': 'Jan', 'ref-authors': {'author': [{'@seq': '1', 'ce:initials': 'T.M.', '@_fa': 'true', 'ce:surname': 'Cover', 'ce:indexed-name': 'Cover T.M.'}]}, 'ref-sourcetitle': 'IEEE Trans. Inf. Theory'}}, {'ref-fulltext': 'R. G. Gallager, \"Capacity and coding for degraded broadcast channels,\" Probl. Pered. Inform., vol. 10, no. 3, pp. 3-14, 1974.', '@id': '12', 'ref-info': {'ref-publicationyear': {'@first': '1974'}, 'ref-title': {'ref-titletext': 'Capacity and coding for degraded broadcast channels'}, 'refd-itemidlist': {'itemid': {'$': '0013082133', '@idtype': 'SGR'}}, 'ref-volisspag': {'voliss': {'@volume': '10', '@issue': '3'}, 'pagerange': {'@first': '3', '@last': '14'}}, 'ref-authors': {'author': [{'@seq': '1', 'ce:initials': 'R.G.', '@_fa': 'true', 'ce:surname': 'Gallager', 'ce:indexed-name': 'Gallager R.G.'}]}, 'ref-sourcetitle': 'Probl. Pered. Inform'}}, {'ref-fulltext': 'I. Csiszár and J. Körner, Information Theory Coding Theorems for Discrete Memoryless Systems. New York: Academic, 1981.', '@id': '13', 'ref-info': {'ref-publicationyear': {'@first': '1981'}, 'refd-itemidlist': {'itemid': {'$': '0003966087', '@idtype': 'SGR'}}, 'ref-text': 'New York: Academic', 'ref-authors': {'author': [{'@seq': '1', 'ce:initials': 'I.', '@_fa': 'true', 'ce:surname': 'Csiszár', 'ce:indexed-name': 'Csiszar I.'}, {'@seq': '2', 'ce:initials': 'J.', '@_fa': 'true', 'ce:surname': 'Körner', 'ce:indexed-name': 'Korner J.'}]}, 'ref-sourcetitle': 'Information Theory Coding Theorems for Discrete Memoryless Systems'}}] \n",
      "\n",
      "coredata.srctype \n",
      " j \n",
      "\n",
      "coredata.prism:issueIdentifier \n",
      " 9 \n",
      "\n",
      "coredata.eid \n",
      " 2-s2.0-51349103946 \n",
      "\n",
      "coredata.dc:description \n",
      " We provide a single-letter characterization for the capacity region of a class of discrete degraded interference channels (DDICs). The class of DDICs considered includes the DADIC studied by Benzel in 1979. We show that for the class of DDICs studied, encoder cooperation does not enlarge the capacity region, and therefore, the capacity region of the class of DDICs is the same as the capacity region of the corresponding degraded broadcast channel. © 2008 IEEE. \n",
      "\n",
      "coredata.prism:coverDate \n",
      " 2008-09-15 \n",
      "\n",
      "coredata.prism:aggregationType \n",
      " Journal \n",
      "\n",
      "coredata.prism:url \n",
      " https://api.elsevier.com/content/abstract/scopus_id/51349103946 \n",
      "\n",
      "coredata.subtypeDescription \n",
      " Article \n",
      "\n",
      "coredata.dc:creator.author \n",
      " [{'ce:given-name': 'Nan', 'preferred-name': {'ce:given-name': 'Nan', 'ce:initials': 'N.', 'ce:surname': 'Liu', 'ce:indexed-name': 'Liu N.'}, '@seq': '1', 'ce:initials': 'N.', '@_fa': 'true', 'affiliation': [{'@id': '60078684', '@href': 'https://api.elsevier.com/content/affiliation/affiliation_id/60078684'}, {'@id': '60012708', '@href': 'https://api.elsevier.com/content/affiliation/affiliation_id/60012708'}], 'ce:surname': 'Liu', '@auid': '36195904400', 'author-url': 'https://api.elsevier.com/content/author/author_id/36195904400', 'ce:indexed-name': 'Liu N.'}] \n",
      "\n",
      "coredata.link \n",
      " [{'@_fa': 'true', '@rel': 'self', '@href': 'https://api.elsevier.com/content/abstract/scopus_id/51349103946'}, {'@_fa': 'true', '@rel': 'scopus', '@href': 'https://www.scopus.com/inward/record.uri?partnerID=HzOxMe3b&scp=51349103946&origin=inward'}, {'@_fa': 'true', '@rel': 'scopus-citedby', '@href': 'https://www.scopus.com/inward/citedby.uri?partnerID=HzOxMe3b&scp=51349103946&origin=inward'}] \n",
      "\n",
      "coredata.prism:publicationName \n",
      " IEEE Transactions on Information Theory \n",
      "\n",
      "coredata.source-id \n",
      " 15107 \n",
      "\n",
      "coredata.citedby-count \n",
      " 24 \n",
      "\n",
      "coredata.prism:volume \n",
      " 54 \n",
      "\n",
      "coredata.subtype \n",
      " ar \n",
      "\n",
      "coredata.prism:pageRange \n",
      " 4372-4378 \n",
      "\n",
      "coredata.dc:title \n",
      " The capacity region of a class of discrete degraded interference channels \n",
      "\n",
      "coredata.prism:endingPage \n",
      " 4378 \n",
      "\n",
      "coredata.openaccess \n",
      " 2 \n",
      "\n",
      "coredata.openaccessFlag \n",
      " None \n",
      "\n",
      "coredata.prism:doi \n",
      " 10.1109/TIT.2008.928267 \n",
      "\n",
      "coredata.prism:issn \n",
      " 00189448 \n",
      "\n",
      "coredata.prism:startingPage \n",
      " 4372 \n",
      "\n",
      "coredata.dc:identifier \n",
      " SCOPUS_ID:51349103946 \n",
      "\n",
      "idxterms.mainterm \n",
      " [{'$': 'Capacity region', '@weight': 'a', '@candidate': 'n'}, {'$': 'Capacity regions', '@weight': 'a', '@candidate': 'n'}, {'$': 'Degradedness', '@weight': 'a', '@candidate': 'n'}, {'$': 'Interference channel', '@weight': 'a', '@candidate': 'n'}] \n",
      "\n",
      "language.@xml:lang \n",
      " eng \n",
      "\n",
      "authkeywords.author-keyword \n",
      " [{'@_fa': 'true', '$': 'Capacity region'}, {'@_fa': 'true', '$': 'Degradedness'}, {'@_fa': 'true', '$': 'Interference channel'}] \n",
      "\n",
      "subject-areas.subject-area \n",
      " [{'@_fa': 'true', '$': 'Information Systems', '@code': '1710', '@abbrev': 'COMP'}, {'@_fa': 'true', '$': 'Computer Science Applications', '@code': '1706', '@abbrev': 'COMP'}, {'@_fa': 'true', '$': 'Library and Information Sciences', '@code': '3309', '@abbrev': 'SOCI'}] \n",
      "\n",
      "authors.author \n",
      " [{'ce:given-name': 'Nan', 'preferred-name': {'ce:given-name': 'Nan', 'ce:initials': 'N.', 'ce:surname': 'Liu', 'ce:indexed-name': 'Liu N.'}, '@seq': '1', 'ce:initials': 'N.', '@_fa': 'true', 'affiliation': [{'@id': '60078684', '@href': 'https://api.elsevier.com/content/affiliation/affiliation_id/60078684'}, {'@id': '60012708', '@href': 'https://api.elsevier.com/content/affiliation/affiliation_id/60012708'}], 'ce:surname': 'Liu', '@auid': '36195904400', 'author-url': 'https://api.elsevier.com/content/author/author_id/36195904400', 'ce:indexed-name': 'Liu N.'}, {'ce:given-name': 'Sennur', 'preferred-name': {'ce:given-name': 'Sennur', 'ce:initials': 'S.', 'ce:surname': 'Ulukus', 'ce:indexed-name': 'Ulukus S.'}, '@seq': '2', 'ce:initials': 'S.', '@_fa': 'true', 'affiliation': {'@id': '60078684', '@href': 'https://api.elsevier.com/content/affiliation/affiliation_id/60078684'}, 'ce:surname': 'Ulukus', '@auid': '7003375238', 'author-url': 'https://api.elsevier.com/content/author/author_id/7003375238', 'ce:indexed-name': 'Ulukus S.'}] \n",
      "\n"
     ]
    }
   ],
   "source": [
    "for col in abstract_df.columns:\n",
    "    print(col, '\\n', abstract_df.loc[0, col], '\\n')"
   ]
  },
  {
   "cell_type": "markdown",
   "id": "f2bb6c98-f259-4890-b90f-b46547c847a4",
   "metadata": {},
   "source": [
    "We can save a subset of the columns to a new dataframe to make the data a little easier to work with:"
   ]
  },
  {
   "cell_type": "code",
   "execution_count": 139,
   "id": "da0c07c7-77b6-41b3-b5a1-3411fec3776f",
   "metadata": {},
   "outputs": [],
   "source": [
    "abstract_df_min = abstract_df[['affiliation',\n",
    "       'item.bibrecord.head.source.publicationdate.year',\n",
    "       'item.bibrecord.tail.bibliography.@refcount',\n",
    "       'coredata.prism:issueIdentifier', \n",
    "       'coredata.dc:description', 'coredata.prism:coverDate',\n",
    "       'coredata.prism:aggregationType', 'coredata.prism:url',\n",
    "       'coredata.subtypeDescription',\n",
    "       'coredata.prism:publicationName', \n",
    "       'coredata.citedby-count', 'coredata.prism:volume', \n",
    "       'coredata.prism:pageRange', 'coredata.dc:title',\n",
    "       'coredata.openaccessFlag', 'coredata.prism:doi', 'coredata.prism:issn',\n",
    "       'authors.author']]"
   ]
  },
  {
   "cell_type": "code",
   "execution_count": 140,
   "id": "dbe67341-1917-4487-b86f-11cc73c4ad6c",
   "metadata": {},
   "outputs": [
    {
     "data": {
      "text/html": [
       "<div>\n",
       "<style scoped>\n",
       "    .dataframe tbody tr th:only-of-type {\n",
       "        vertical-align: middle;\n",
       "    }\n",
       "\n",
       "    .dataframe tbody tr th {\n",
       "        vertical-align: top;\n",
       "    }\n",
       "\n",
       "    .dataframe thead th {\n",
       "        text-align: right;\n",
       "    }\n",
       "</style>\n",
       "<table border=\"1\" class=\"dataframe\">\n",
       "  <thead>\n",
       "    <tr style=\"text-align: right;\">\n",
       "      <th></th>\n",
       "      <th>affiliation</th>\n",
       "      <th>item.bibrecord.head.source.publicationdate.year</th>\n",
       "      <th>item.bibrecord.tail.bibliography.@refcount</th>\n",
       "      <th>coredata.prism:issueIdentifier</th>\n",
       "      <th>coredata.dc:description</th>\n",
       "      <th>coredata.prism:coverDate</th>\n",
       "      <th>coredata.prism:aggregationType</th>\n",
       "      <th>coredata.prism:url</th>\n",
       "      <th>coredata.subtypeDescription</th>\n",
       "      <th>coredata.prism:publicationName</th>\n",
       "      <th>coredata.citedby-count</th>\n",
       "      <th>coredata.prism:volume</th>\n",
       "      <th>coredata.prism:pageRange</th>\n",
       "      <th>coredata.dc:title</th>\n",
       "      <th>coredata.openaccessFlag</th>\n",
       "      <th>coredata.prism:doi</th>\n",
       "      <th>coredata.prism:issn</th>\n",
       "      <th>authors.author</th>\n",
       "    </tr>\n",
       "  </thead>\n",
       "  <tbody>\n",
       "    <tr>\n",
       "      <th>0</th>\n",
       "      <td>[{'affiliation-city': 'College Park', '@id': '...</td>\n",
       "      <td>2008</td>\n",
       "      <td>13</td>\n",
       "      <td>9</td>\n",
       "      <td>We provide a single-letter characterization fo...</td>\n",
       "      <td>2008-09-15</td>\n",
       "      <td>Journal</td>\n",
       "      <td>https://api.elsevier.com/content/abstract/scop...</td>\n",
       "      <td>Article</td>\n",
       "      <td>IEEE Transactions on Information Theory</td>\n",
       "      <td>24</td>\n",
       "      <td>54</td>\n",
       "      <td>4372-4378</td>\n",
       "      <td>The capacity region of a class of discrete deg...</td>\n",
       "      <td>None</td>\n",
       "      <td>10.1109/TIT.2008.928267</td>\n",
       "      <td>00189448</td>\n",
       "      <td>[{'ce:given-name': 'Nan', 'preferred-name': {'...</td>\n",
       "    </tr>\n",
       "  </tbody>\n",
       "</table>\n",
       "</div>"
      ],
      "text/plain": [
       "                                         affiliation  \\\n",
       "0  [{'affiliation-city': 'College Park', '@id': '...   \n",
       "\n",
       "  item.bibrecord.head.source.publicationdate.year  \\\n",
       "0                                            2008   \n",
       "\n",
       "  item.bibrecord.tail.bibliography.@refcount coredata.prism:issueIdentifier  \\\n",
       "0                                         13                              9   \n",
       "\n",
       "                             coredata.dc:description coredata.prism:coverDate  \\\n",
       "0  We provide a single-letter characterization fo...               2008-09-15   \n",
       "\n",
       "  coredata.prism:aggregationType  \\\n",
       "0                        Journal   \n",
       "\n",
       "                                  coredata.prism:url  \\\n",
       "0  https://api.elsevier.com/content/abstract/scop...   \n",
       "\n",
       "  coredata.subtypeDescription           coredata.prism:publicationName  \\\n",
       "0                     Article  IEEE Transactions on Information Theory   \n",
       "\n",
       "  coredata.citedby-count coredata.prism:volume coredata.prism:pageRange  \\\n",
       "0                     24                    54                4372-4378   \n",
       "\n",
       "                                   coredata.dc:title coredata.openaccessFlag  \\\n",
       "0  The capacity region of a class of discrete deg...                    None   \n",
       "\n",
       "        coredata.prism:doi coredata.prism:issn  \\\n",
       "0  10.1109/TIT.2008.928267            00189448   \n",
       "\n",
       "                                      authors.author  \n",
       "0  [{'ce:given-name': 'Nan', 'preferred-name': {'...  "
      ]
     },
     "execution_count": 140,
     "metadata": {},
     "output_type": "execute_result"
    }
   ],
   "source": [
    "abstract_df_min"
   ]
  },
  {
   "cell_type": "code",
   "execution_count": 111,
   "id": "9b1719fc-7e0f-47de-abe3-c599c8aa15b1",
   "metadata": {},
   "outputs": [
    {
     "name": "stdout",
     "output_type": "stream",
     "text": [
      "We provide a single-letter characterization for the capacity region of a class of discrete degraded interference channels (DDICs). The class of DDICs considered includes the DADIC studied by Benzel in 1979. We show that for the class of DDICs studied, encoder cooperation does not enlarge the capacity region, and therefore, the capacity region of the class of DDICs is the same as the capacity region of the corresponding degraded broadcast channel. © 2008 IEEE.\n",
      "We provide a single-letter characterization for the capacity region of a class of discrete degraded interference channels (DDICs). The class of DDICs considered includes the DADIC studied by Benzel in 1979. We show that for the class of DDICs studied, encoder cooperation does not enlarge the capacity region, and therefore, the capacity region of the class of DDICs is the same as the capacity region of the corresponding degraded broadcast channel. © 2008 IEEE.\n"
     ]
    }
   ],
   "source": [
    "# the abstract is available in a few different places\n",
    "print(r_json['item']['bibrecord']['head']['abstracts'])\n",
    "print(r_json['coredata']['dc:description'])"
   ]
  },
  {
   "cell_type": "code",
   "execution_count": 107,
   "id": "a1528775-379c-4222-9d7e-2de26e9fb262",
   "metadata": {},
   "outputs": [
    {
     "data": {
      "text/plain": [
       "{'author': [{'ce:given-name': 'Nan',\n",
       "   'preferred-name': {'ce:given-name': 'Nan',\n",
       "    'ce:initials': 'N.',\n",
       "    'ce:surname': 'Liu',\n",
       "    'ce:indexed-name': 'Liu N.'},\n",
       "   '@seq': '1',\n",
       "   'ce:initials': 'N.',\n",
       "   '@_fa': 'true',\n",
       "   'affiliation': [{'@id': '60078684',\n",
       "     '@href': 'https://api.elsevier.com/content/affiliation/affiliation_id/60078684'},\n",
       "    {'@id': '60012708',\n",
       "     '@href': 'https://api.elsevier.com/content/affiliation/affiliation_id/60012708'}],\n",
       "   'ce:surname': 'Liu',\n",
       "   '@auid': '36195904400',\n",
       "   'author-url': 'https://api.elsevier.com/content/author/author_id/36195904400',\n",
       "   'ce:indexed-name': 'Liu N.'},\n",
       "  {'ce:given-name': 'Sennur',\n",
       "   'preferred-name': {'ce:given-name': 'Sennur',\n",
       "    'ce:initials': 'S.',\n",
       "    'ce:surname': 'Ulukus',\n",
       "    'ce:indexed-name': 'Ulukus S.'},\n",
       "   '@seq': '2',\n",
       "   'ce:initials': 'S.',\n",
       "   '@_fa': 'true',\n",
       "   'affiliation': {'@id': '60078684',\n",
       "    '@href': 'https://api.elsevier.com/content/affiliation/affiliation_id/60078684'},\n",
       "   'ce:surname': 'Ulukus',\n",
       "   '@auid': '7003375238',\n",
       "   'author-url': 'https://api.elsevier.com/content/author/author_id/7003375238',\n",
       "   'ce:indexed-name': 'Ulukus S.'}]}"
      ]
     },
     "execution_count": 107,
     "metadata": {},
     "output_type": "execute_result"
    }
   ],
   "source": [
    "r_json['authors']"
   ]
  },
  {
   "cell_type": "code",
   "execution_count": null,
   "id": "add19a73-42be-4f8e-a6cb-72ab92d9582e",
   "metadata": {},
   "outputs": [],
   "source": []
  }
 ],
 "metadata": {
  "kernelspec": {
   "display_name": "Python 3 (ipykernel)",
   "language": "python",
   "name": "python3"
  },
  "language_info": {
   "codemirror_mode": {
    "name": "ipython",
    "version": 3
   },
   "file_extension": ".py",
   "mimetype": "text/x-python",
   "name": "python",
   "nbconvert_exporter": "python",
   "pygments_lexer": "ipython3",
   "version": "3.9.13"
  }
 },
 "nbformat": 4,
 "nbformat_minor": 5
}
